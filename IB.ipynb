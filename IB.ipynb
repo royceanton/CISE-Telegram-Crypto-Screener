{
 "cells": [
  {
   "cell_type": "code",
   "metadata": {
    "tags": [],
    "cell_id": "e08b5d60-e8d8-452f-be3c-6cf849a181bc",
    "deepnote_to_be_reexecuted": false,
    "source_hash": "e4d46c89",
    "execution_start": 1654608537370,
    "execution_millis": 228,
    "deepnote_cell_type": "code",
    "deepnote_cell_height": 369
   },
   "source": "import pandas as pd\nimport numpy as np\nimport datetime\nimport requests\nimport threading\nimport time\nimport concurrent\nimport os, random\nimport csv\nimport glob\n\nfrom ta import add_all_ta_features\nfrom ta.utils import dropna\nfrom ta.trend import STCIndicator\n\nimport plotly.express as px\nimport plotly.graph_objects as go",
   "execution_count": null,
   "outputs": []
  },
  {
   "cell_type": "code",
   "metadata": {
    "cell_id": "2cf1bc191b0d47aebd1ef39e3f5c2371",
    "tags": [],
    "deepnote_to_be_reexecuted": false,
    "source_hash": "4d5d03f9",
    "execution_start": 1654608810079,
    "execution_millis": 0,
    "deepnote_cell_type": "code",
    "deepnote_cell_height": 153
   },
   "source": "tickers = []\nwith open('symbols.csv', newline='') as inputfile:\n    for row in csv.reader(inputfile):\n        tickers.append(row[0])\n    tickers.pop(0) #remove zero index",
   "execution_count": null,
   "outputs": []
  },
  {
   "cell_type": "code",
   "metadata": {
    "cell_id": "95ea323a8b2a417bac182920c330fc02",
    "tags": [],
    "deepnote_to_be_reexecuted": false,
    "source_hash": "ece010e9",
    "execution_start": 1654608513625,
    "execution_millis": 2,
    "deepnote_cell_type": "code",
    "deepnote_cell_height": 801
   },
   "source": "def fetch_ohlc(symbol, timeframe, timesymbol):\n\n        symbol = symbol\n        timeframe = timeframe\n        timesymbol = timesymbol\n\n        # fetch data-binance api\n        candlestick_url = (\n            \"https://fapi.binance.com/fapi/v1/continuousKlines?pair=\"\n            + symbol\n            + \"&contractType=PERPETUAL&interval=\"\n            + str(timeframe)\n            + timesymbol\n            + \"&limit=1500\"\n        )\n        candlestick_chart = requests.get(candlestick_url).json()\n        candlestick_df = pd.DataFrame(candlestick_chart)\n        candlestick_df = candlestick_df.iloc[:, 1:7]\n        candlestick_df.columns = [\"open\", \"high\", \"low\", \"close\", \"volume\", \"date\"]\n        candlestick_df[\"date\"] = pd.to_datetime(\n            candlestick_df[\"date\"], unit=\"ms\"\n        ).round(\"1s\")\n        candlestick_df.insert(0, \"date\", candlestick_df.pop(\"date\"))\n\n        # reset to midnight\n        candlestick_df.date = pd.to_datetime(candlestick_df.date)\n        min_date = candlestick_df.date.min()\n        NextDay_Date = (min_date + datetime.timedelta(days=1)).replace(\n            hour=0, minute=0, second=0, microsecond=0\n        )\n        candlestick_df = candlestick_df[candlestick_df.date >= NextDay_Date].copy()\n\n        candlestick_df = candlestick_df.set_index(\"date\")\n        candlestick_df[\"symbol\"] = symbol\n\n        ohlc_data = candlestick_df\n\n        cols = [\"open\", \"high\", \"low\", \"close\", \"volume\"]\n        ohlc_data[cols] = ohlc_data[cols].apply(pd.to_numeric, errors=\"coerce\")\n        ohlc_data[cols] = ohlc_data[cols].round(decimals=8) #decimal important for small alts\n        return ohlc_data",
   "execution_count": null,
   "outputs": []
  },
  {
   "cell_type": "code",
   "metadata": {
    "cell_id": "14ea8530fe334ce0806acdc582cc4990",
    "tags": [],
    "deepnote_to_be_reexecuted": false,
    "source_hash": "3885f4e2",
    "execution_start": 1654608686406,
    "execution_millis": 1,
    "deepnote_cell_type": "code",
    "deepnote_cell_height": 171
   },
   "source": "def ohlc_30(symbol):\n    try:\n        ohlc_30 = fetch_ohlc(symbol,30,'m')\n        ohlc_30.to_csv(f\"OHLC30m/\"+symbol+\"30m.csv\")\n    except ValueError:\n        pass",
   "execution_count": null,
   "outputs": []
  },
  {
   "cell_type": "code",
   "metadata": {
    "cell_id": "72945a93b93c49dabdfce8f00a80c8fd",
    "tags": [],
    "deepnote_to_be_reexecuted": false,
    "source_hash": "11886383",
    "execution_start": 1654608818287,
    "execution_millis": 12901,
    "deepnote_cell_type": "code",
    "deepnote_cell_height": 117
   },
   "source": "with concurrent.futures.ProcessPoolExecutor() as executor:\n     result = [executor.submit(ohlc_30,symbol) \n               for symbol in tickers]",
   "execution_count": null,
   "outputs": []
  },
  {
   "cell_type": "code",
   "metadata": {
    "cell_id": "ce87077ee45b42c18e7e7c982a4b068f",
    "tags": [],
    "deepnote_to_be_reexecuted": false,
    "source_hash": "173a2a57",
    "execution_start": 1654623892655,
    "execution_millis": 0,
    "deepnote_cell_type": "code",
    "deepnote_cell_height": 1197
   },
   "source": "def compute_IB(symbol):\n    try:\n\n        ohlc_smaller = pd.read_csv(f\"OHLC30m/\"+symbol+'30m.csv')\n        ohlc_smaller['date'] = pd.to_datetime(ohlc_smaller['date'])\n        ohlc_smaller = ohlc_smaller.set_index('date')\n\n        daily_ohlc_data = ohlc_smaller.resample('D').apply(\n                {\n                    'open':'first',\n                    'high':'max',\n                    'low' : 'min',\n                    'close': 'last'\n                }\n            ).dropna()\n\n        initial_balance = (ohlc_smaller[ohlc_smaller.index.time < datetime.time(1,00)].resample('D')\n                               .apply({'high':'max','low':'min'}).dropna())\n\n        initial_balance['symbol'] = symbol\n\n        column_to_move = initial_balance.pop('symbol')\n        initial_balance.insert(0, 'symbol', column_to_move)\n\n        initial_balance['width'] = initial_balance['high'].astype(float) - initial_balance['low'].astype(float)\n        initial_balance['mid'] =  (initial_balance['high'].astype(float) + initial_balance['low'].astype(float))/2\n\n        #range open\n\n        initial_balance['range_open'] = daily_ohlc_data['close'].shift(+1) < initial_balance['mid']\n        initial_balance['range_open'] = initial_balance['range_open'].apply(lambda x: 'bottom' if x == True else 'top')\n\n        #opportunity(based on range open) !not signal\n        initial_balance['ib_opportunity'] = initial_balance.apply(lambda x: 'short' if x.range_open == 'top' else 'long', axis=1)\n\n        #set up IB width\n\n        window =21 \n        ib_avg_width = initial_balance['width'].rolling(window=window).mean()\n        ib_sd = initial_balance['width'].rolling(window=window).std()\n\n        initial_balance['narrow_ib'] =initial_balance['width'] < ib_avg_width - ib_sd\n        initial_balance['moderate_ib'] = (initial_balance['width']>= ib_avg_width-ib_sd) & (initial_balance['width']<= ib_avg_width+ib_sd)\n        initial_balance['wide_ib'] =initial_balance['width'] > ib_avg_width + ib_sd\n\n        #IB width summary\n\n        initial_balance['width_status'] = initial_balance.apply(lambda x: 'narrow' if x.narrow_ib == True else ( 'moderate' if x.moderate_ib == True else 'wide'), axis =1)\n        initial_balance = initial_balance.drop(['narrow_ib','moderate_ib','wide_ib'], axis=1)\n\n        initial_balance.rename(columns = {'high':'ib_high',\n                                           'low':'ib_low',\n                                           'width':'ib_width',\n                                           'mid':'ib_mid',\n                                           'range_open':'ib_range_open' ,\n                                           'width_status': 'ib_width_status'}, inplace=True)\n        #initial_balance = initial_balance.tail(1)\n\n\n        return initial_balance\n\n    except FileNotFoundError:\n        pass",
   "execution_count": null,
   "outputs": []
  },
  {
   "cell_type": "code",
   "metadata": {
    "cell_id": "499d7a064826453f8f2c333c2f80d964",
    "tags": [],
    "deepnote_to_be_reexecuted": false,
    "source_hash": "86662452",
    "execution_start": 1654623711796,
    "execution_millis": 4844,
    "owner_user_id": "bc1e1ad8-1812-44f1-8f46-4a52a23ed6fa",
    "deepnote_cell_type": "code",
    "deepnote_cell_height": 189
   },
   "source": "def thread_ib(symbol):\n    ib = compute_IB(symbol)\n    ib.to_csv(f\"IB/\"+symbol+\"ib.csv\")\n\nwith concurrent.futures.ProcessPoolExecutor() as executor:\n     ib = [executor.submit(thread_ib,symbol) \n               for symbol in tickers]",
   "execution_count": null,
   "outputs": []
  },
  {
   "cell_type": "code",
   "metadata": {
    "cell_id": "4d600dfa3067430dad2f5720984f550d",
    "tags": [],
    "deepnote_to_be_reexecuted": false,
    "source_hash": "f83641c2",
    "execution_start": 1654623716648,
    "execution_millis": 7,
    "deepnote_cell_type": "code",
    "deepnote_cell_height": 153
   },
   "source": "file = glob.glob('IB/*.csv')\nrandom_files=np.random.choice(file,2)\nfile = file[1]\nrandom_df =  pd.read_csv(file)\nib_df = random_df.tail(1)",
   "execution_count": null,
   "outputs": []
  },
  {
   "cell_type": "code",
   "metadata": {
    "cell_id": "07cddf08d5614b8d93cf99b51de7f2bf",
    "tags": [],
    "deepnote_to_be_reexecuted": false,
    "source_hash": "583e2c26",
    "execution_start": 1654623716659,
    "execution_millis": 1192,
    "deepnote_cell_type": "code",
    "deepnote_cell_height": 207
   },
   "source": "for symbol in tickers:\n    try:\n        df = pd.read_csv(f\"IB/\"+symbol+\"ib.csv\")\n        df = df.tail(1)\n        ib_df = ib_df.append(df)\n        ib_df = ib_df.drop_duplicates()\n    except FileNotFoundError:\n        pass",
   "execution_count": null,
   "outputs": []
  },
  {
   "cell_type": "code",
   "metadata": {
    "cell_id": "26e77f2ea816409e9b1879512a9d81a1",
    "tags": [],
    "deepnote_to_be_reexecuted": false,
    "source_hash": "7c337cf5",
    "execution_start": 1654623718645,
    "execution_millis": 1,
    "deepnote_cell_type": "code",
    "deepnote_cell_height": 81
   },
   "source": "ib_df.to_csv('IB/IB.csv', index=False)",
   "execution_count": null,
   "outputs": []
  },
  {
   "cell_type": "code",
   "metadata": {
    "cell_id": "ad60de27169e4f158f9e0c26d706134d",
    "tags": [],
    "deepnote_to_be_reexecuted": false,
    "source_hash": "173abca5",
    "execution_start": 1654623721234,
    "execution_millis": 60,
    "deepnote_cell_type": "code",
    "deepnote_cell_height": 618.65625
   },
   "source": "pd.read_csv('IB/IB.csv')",
   "execution_count": null,
   "outputs": [
    {
     "output_type": "execute_result",
     "execution_count": 37,
     "data": {
      "application/vnd.deepnote.dataframe.v3+json": {
       "column_count": 9,
       "row_count": 142,
       "columns": [
        {
         "name": "date",
         "dtype": "object",
         "stats": {
          "unique_count": 1,
          "nan_count": 0,
          "categories": [
           {
            "name": "2022-06-07",
            "count": 142
           }
          ]
         }
        },
        {
         "name": "symbol",
         "dtype": "object",
         "stats": {
          "unique_count": 142,
          "nan_count": 0,
          "categories": [
           {
            "name": "BLZUSDT",
            "count": 1
           },
           {
            "name": "IOTXUSDT",
            "count": 1
           },
           {
            "name": "140 others",
            "count": 140
           }
          ]
         }
        },
        {
         "name": "ib_high",
         "dtype": "float64",
         "stats": {
          "unique_count": 142,
          "nan_count": 0,
          "min": "0.001302",
          "max": "31394.2",
          "histogram": [
           {
            "bin_start": 0.001302,
            "bin_end": 3139.4211718,
            "count": 140
           },
           {
            "bin_start": 3139.4211718,
            "bin_end": 6278.8410416,
            "count": 0
           },
           {
            "bin_start": 6278.8410416,
            "bin_end": 9418.2609114,
            "count": 1
           },
           {
            "bin_start": 9418.2609114,
            "bin_end": 12557.6807812,
            "count": 0
           },
           {
            "bin_start": 12557.6807812,
            "bin_end": 15697.100651,
            "count": 0
           },
           {
            "bin_start": 15697.100651,
            "bin_end": 18836.5205208,
            "count": 0
           },
           {
            "bin_start": 18836.5205208,
            "bin_end": 21975.9403906,
            "count": 0
           },
           {
            "bin_start": 21975.9403906,
            "bin_end": 25115.3602604,
            "count": 0
           },
           {
            "bin_start": 25115.3602604,
            "bin_end": 28254.7801302,
            "count": 0
           },
           {
            "bin_start": 28254.7801302,
            "bin_end": 31394.2,
            "count": 1
           }
          ]
         }
        },
        {
         "name": "ib_low",
         "dtype": "float64",
         "stats": {
          "unique_count": 142,
          "nan_count": 0,
          "min": "0.001241",
          "max": "30622.0",
          "histogram": [
           {
            "bin_start": 0.001241,
            "bin_end": 3062.2011168999998,
            "count": 140
           },
           {
            "bin_start": 3062.2011168999998,
            "bin_end": 6124.4009928,
            "count": 0
           },
           {
            "bin_start": 6124.4009928,
            "bin_end": 9186.6008687,
            "count": 1
           },
           {
            "bin_start": 9186.6008687,
            "bin_end": 12248.8007446,
            "count": 0
           },
           {
            "bin_start": 12248.8007446,
            "bin_end": 15311.000620499999,
            "count": 0
           },
           {
            "bin_start": 15311.000620499999,
            "bin_end": 18373.2004964,
            "count": 0
           },
           {
            "bin_start": 18373.2004964,
            "bin_end": 21435.400372300002,
            "count": 0
           },
           {
            "bin_start": 21435.400372300002,
            "bin_end": 24497.6002482,
            "count": 0
           },
           {
            "bin_start": 24497.6002482,
            "bin_end": 27559.8001241,
            "count": 0
           },
           {
            "bin_start": 27559.8001241,
            "bin_end": 30622,
            "count": 1
           }
          ]
         }
        },
        {
         "name": "ib_width",
         "dtype": "float64",
         "stats": {
          "unique_count": 141,
          "nan_count": 0,
          "min": "6.100000000000007e-05",
          "max": "772.2000000000007",
          "histogram": [
           {
            "bin_start": 0.00006100000000000007,
            "bin_end": 77.22005490000008,
            "count": 140
           },
           {
            "bin_start": 77.22005490000008,
            "bin_end": 154.44004880000014,
            "count": 0
           },
           {
            "bin_start": 154.44004880000014,
            "bin_end": 231.66004270000022,
            "count": 0
           },
           {
            "bin_start": 231.66004270000022,
            "bin_end": 308.8800366000003,
            "count": 1
           },
           {
            "bin_start": 308.8800366000003,
            "bin_end": 386.1000305000004,
            "count": 0
           },
           {
            "bin_start": 386.1000305000004,
            "bin_end": 463.3200244000005,
            "count": 0
           },
           {
            "bin_start": 463.3200244000005,
            "bin_end": 540.5400183000005,
            "count": 0
           },
           {
            "bin_start": 540.5400183000005,
            "bin_end": 617.7600122000006,
            "count": 0
           },
           {
            "bin_start": 617.7600122000006,
            "bin_end": 694.9800061000007,
            "count": 0
           },
           {
            "bin_start": 694.9800061000007,
            "bin_end": 772.2000000000007,
            "count": 1
           }
          ]
         }
        },
        {
         "name": "ib_mid",
         "dtype": "float64",
         "stats": {
          "unique_count": 142,
          "nan_count": 0,
          "min": "0.0012715",
          "max": "31008.1",
          "histogram": [
           {
            "bin_start": 0.0012715,
            "bin_end": 3100.8111443499997,
            "count": 140
           },
           {
            "bin_start": 3100.8111443499997,
            "bin_end": 6201.6210172,
            "count": 0
           },
           {
            "bin_start": 6201.6210172,
            "bin_end": 9302.430890049998,
            "count": 1
           },
           {
            "bin_start": 9302.430890049998,
            "bin_end": 12403.240762899999,
            "count": 0
           },
           {
            "bin_start": 12403.240762899999,
            "bin_end": 15504.05063575,
            "count": 0
           },
           {
            "bin_start": 15504.05063575,
            "bin_end": 18604.8605086,
            "count": 0
           },
           {
            "bin_start": 18604.8605086,
            "bin_end": 21705.67038145,
            "count": 0
           },
           {
            "bin_start": 21705.67038145,
            "bin_end": 24806.4802543,
            "count": 0
           },
           {
            "bin_start": 24806.4802543,
            "bin_end": 27907.29012715,
            "count": 0
           },
           {
            "bin_start": 27907.29012715,
            "bin_end": 31008.1,
            "count": 1
           }
          ]
         }
        },
        {
         "name": "ib_range_open",
         "dtype": "object",
         "stats": {
          "unique_count": 2,
          "nan_count": 0,
          "categories": [
           {
            "name": "top",
            "count": 134
           },
           {
            "name": "bottom",
            "count": 8
           }
          ]
         }
        },
        {
         "name": "opportunity",
         "dtype": "object",
         "stats": {
          "unique_count": 2,
          "nan_count": 0,
          "categories": [
           {
            "name": "short",
            "count": 134
           },
           {
            "name": "long",
            "count": 8
           }
          ]
         }
        },
        {
         "name": "ib_width_status",
         "dtype": "object",
         "stats": {
          "unique_count": 2,
          "nan_count": 0,
          "categories": [
           {
            "name": "wide",
            "count": 110
           },
           {
            "name": "moderate",
            "count": 32
           }
          ]
         }
        },
        {
         "name": "_deepnote_index_column",
         "dtype": "int64"
        }
       ],
       "rows": [
        {
         "date": "2022-06-07",
         "symbol": "BLZUSDT",
         "ib_high": 0.1022,
         "ib_low": 0.09964,
         "ib_width": 0.0025599999999999,
         "ib_mid": 0.10092,
         "ib_range_open": "bottom",
         "opportunity": "long",
         "ib_width_status": "moderate",
         "_deepnote_index_column": 0
        },
        {
         "date": "2022-06-07",
         "symbol": "IOTXUSDT",
         "ib_high": 0.03491,
         "ib_low": 0.03323,
         "ib_width": 0.0016799999999999,
         "ib_mid": 0.03407,
         "ib_range_open": "top",
         "opportunity": "short",
         "ib_width_status": "wide",
         "_deepnote_index_column": 1
        },
        {
         "date": "2022-06-07",
         "symbol": "XLMUSDT",
         "ib_high": 0.14513,
         "ib_low": 0.14032,
         "ib_width": 0.00481,
         "ib_mid": 0.142725,
         "ib_range_open": "top",
         "opportunity": "short",
         "ib_width_status": "wide",
         "_deepnote_index_column": 2
        },
        {
         "date": "2022-06-07",
         "symbol": "OMGUSDT",
         "ib_high": 2.576,
         "ib_low": 2.478,
         "ib_width": 0.0979999999999998,
         "ib_mid": 2.527,
         "ib_range_open": "top",
         "opportunity": "short",
         "ib_width_status": "wide",
         "_deepnote_index_column": 3
        },
        {
         "date": "2022-06-07",
         "symbol": "BALUSDT",
         "ib_high": 7.604,
         "ib_low": 7.306,
         "ib_width": 0.298,
         "ib_mid": 7.455,
         "ib_range_open": "top",
         "opportunity": "short",
         "ib_width_status": "wide",
         "_deepnote_index_column": 4
        },
        {
         "date": "2022-06-07",
         "symbol": "XTZUSDT",
         "ib_high": 2.072,
         "ib_low": 1.995,
         "ib_width": 0.0769999999999999,
         "ib_mid": 2.0335,
         "ib_range_open": "top",
         "opportunity": "short",
         "ib_width_status": "wide",
         "_deepnote_index_column": 5
        },
        {
         "date": "2022-06-07",
         "symbol": "ARUSDT",
         "ib_high": 13.122,
         "ib_low": 12.66,
         "ib_width": 0.4619999999999997,
         "ib_mid": 12.891,
         "ib_range_open": "top",
         "opportunity": "short",
         "ib_width_status": "moderate",
         "_deepnote_index_column": 6
        },
        {
         "date": "2022-06-07",
         "symbol": "DENTUSDT",
         "ib_high": 0.001302,
         "ib_low": 0.001241,
         "ib_width": 0.00006100000000000007,
         "ib_mid": 0.0012715,
         "ib_range_open": "top",
         "opportunity": "short",
         "ib_width_status": "wide",
         "_deepnote_index_column": 7
        },
        {
         "date": "2022-06-07",
         "symbol": "GALAUSDT",
         "ib_high": 0.09055,
         "ib_low": 0.08571,
         "ib_width": 0.00484,
         "ib_mid": 0.08813,
         "ib_range_open": "top",
         "opportunity": "short",
         "ib_width_status": "wide",
         "_deepnote_index_column": 8
        },
        {
         "date": "2022-06-07",
         "symbol": "ONTUSDT",
         "ib_high": 0.3144,
         "ib_low": 0.299,
         "ib_width": 0.0154,
         "ib_mid": 0.3067,
         "ib_range_open": "top",
         "opportunity": "short",
         "ib_width_status": "moderate",
         "_deepnote_index_column": 9
        }
       ]
      },
      "text/plain": "           date     symbol  ib_high   ib_low  ib_width    ib_mid  \\\n0    2022-06-07    BLZUSDT  0.10220  0.09964   0.00256  0.100920   \n1    2022-06-07   IOTXUSDT  0.03491  0.03323   0.00168  0.034070   \n2    2022-06-07    XLMUSDT  0.14513  0.14032   0.00481  0.142725   \n3    2022-06-07    OMGUSDT  2.57600  2.47800   0.09800  2.527000   \n4    2022-06-07    BALUSDT  7.60400  7.30600   0.29800  7.455000   \n..          ...        ...      ...      ...       ...       ...   \n137  2022-06-07   API3USDT  1.57000  1.50500   0.06500  1.537500   \n138  2022-06-07    TLMUSDT  0.03660  0.03530   0.00130  0.035950   \n139  2022-06-07  MATICUSDT  0.63490  0.60960   0.02530  0.622250   \n140  2022-06-07    SNXUSDT  2.78000  2.67100   0.10900  2.725500   \n141  2022-06-07    SFPUSDT  0.40980  0.39860   0.01120  0.404200   \n\n    ib_range_open opportunity ib_width_status  \n0          bottom        long        moderate  \n1             top       short            wide  \n2             top       short            wide  \n3             top       short            wide  \n4             top       short            wide  \n..            ...         ...             ...  \n137           top       short            wide  \n138        bottom        long        moderate  \n139           top       short            wide  \n140           top       short            wide  \n141           top       short        moderate  \n\n[142 rows x 9 columns]",
      "text/html": "<div>\n<style scoped>\n    .dataframe tbody tr th:only-of-type {\n        vertical-align: middle;\n    }\n\n    .dataframe tbody tr th {\n        vertical-align: top;\n    }\n\n    .dataframe thead th {\n        text-align: right;\n    }\n</style>\n<table border=\"1\" class=\"dataframe\">\n  <thead>\n    <tr style=\"text-align: right;\">\n      <th></th>\n      <th>date</th>\n      <th>symbol</th>\n      <th>ib_high</th>\n      <th>ib_low</th>\n      <th>ib_width</th>\n      <th>ib_mid</th>\n      <th>ib_range_open</th>\n      <th>opportunity</th>\n      <th>ib_width_status</th>\n    </tr>\n  </thead>\n  <tbody>\n    <tr>\n      <th>0</th>\n      <td>2022-06-07</td>\n      <td>BLZUSDT</td>\n      <td>0.10220</td>\n      <td>0.09964</td>\n      <td>0.00256</td>\n      <td>0.100920</td>\n      <td>bottom</td>\n      <td>long</td>\n      <td>moderate</td>\n    </tr>\n    <tr>\n      <th>1</th>\n      <td>2022-06-07</td>\n      <td>IOTXUSDT</td>\n      <td>0.03491</td>\n      <td>0.03323</td>\n      <td>0.00168</td>\n      <td>0.034070</td>\n      <td>top</td>\n      <td>short</td>\n      <td>wide</td>\n    </tr>\n    <tr>\n      <th>2</th>\n      <td>2022-06-07</td>\n      <td>XLMUSDT</td>\n      <td>0.14513</td>\n      <td>0.14032</td>\n      <td>0.00481</td>\n      <td>0.142725</td>\n      <td>top</td>\n      <td>short</td>\n      <td>wide</td>\n    </tr>\n    <tr>\n      <th>3</th>\n      <td>2022-06-07</td>\n      <td>OMGUSDT</td>\n      <td>2.57600</td>\n      <td>2.47800</td>\n      <td>0.09800</td>\n      <td>2.527000</td>\n      <td>top</td>\n      <td>short</td>\n      <td>wide</td>\n    </tr>\n    <tr>\n      <th>4</th>\n      <td>2022-06-07</td>\n      <td>BALUSDT</td>\n      <td>7.60400</td>\n      <td>7.30600</td>\n      <td>0.29800</td>\n      <td>7.455000</td>\n      <td>top</td>\n      <td>short</td>\n      <td>wide</td>\n    </tr>\n    <tr>\n      <th>...</th>\n      <td>...</td>\n      <td>...</td>\n      <td>...</td>\n      <td>...</td>\n      <td>...</td>\n      <td>...</td>\n      <td>...</td>\n      <td>...</td>\n      <td>...</td>\n    </tr>\n    <tr>\n      <th>137</th>\n      <td>2022-06-07</td>\n      <td>API3USDT</td>\n      <td>1.57000</td>\n      <td>1.50500</td>\n      <td>0.06500</td>\n      <td>1.537500</td>\n      <td>top</td>\n      <td>short</td>\n      <td>wide</td>\n    </tr>\n    <tr>\n      <th>138</th>\n      <td>2022-06-07</td>\n      <td>TLMUSDT</td>\n      <td>0.03660</td>\n      <td>0.03530</td>\n      <td>0.00130</td>\n      <td>0.035950</td>\n      <td>bottom</td>\n      <td>long</td>\n      <td>moderate</td>\n    </tr>\n    <tr>\n      <th>139</th>\n      <td>2022-06-07</td>\n      <td>MATICUSDT</td>\n      <td>0.63490</td>\n      <td>0.60960</td>\n      <td>0.02530</td>\n      <td>0.622250</td>\n      <td>top</td>\n      <td>short</td>\n      <td>wide</td>\n    </tr>\n    <tr>\n      <th>140</th>\n      <td>2022-06-07</td>\n      <td>SNXUSDT</td>\n      <td>2.78000</td>\n      <td>2.67100</td>\n      <td>0.10900</td>\n      <td>2.725500</td>\n      <td>top</td>\n      <td>short</td>\n      <td>wide</td>\n    </tr>\n    <tr>\n      <th>141</th>\n      <td>2022-06-07</td>\n      <td>SFPUSDT</td>\n      <td>0.40980</td>\n      <td>0.39860</td>\n      <td>0.01120</td>\n      <td>0.404200</td>\n      <td>top</td>\n      <td>short</td>\n      <td>moderate</td>\n    </tr>\n  </tbody>\n</table>\n<p>142 rows × 9 columns</p>\n</div>"
     },
     "metadata": {}
    }
   ]
  },
  {
   "cell_type": "code",
   "metadata": {
    "cell_id": "ff6f6c54f4114189974b73d805f389f1",
    "tags": [],
    "deepnote_cell_type": "code",
    "deepnote_cell_height": 66
   },
   "source": "",
   "execution_count": null,
   "outputs": []
  },
  {
   "cell_type": "markdown",
   "source": "<a style='text-decoration:none;line-height:16px;display:flex;color:#5B5B62;padding:10px;justify-content:end;' href='https://deepnote.com?utm_source=created-in-deepnote-cell&projectId=4b416ed7-4459-4831-a6c0-a85d5b5e69e0' target=\"_blank\">\n<img alt='Created in deepnote.com' style='display:inline;max-height:16px;margin:0px;margin-right:7.5px;' src='data:image/svg+xml;base64,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' > </img>\nCreated in <span style='font-weight:600;margin-left:4px;'>Deepnote</span></a>",
   "metadata": {
    "tags": [],
    "created_in_deepnote_cell": true,
    "deepnote_cell_type": "markdown"
   }
  }
 ],
 "nbformat": 4,
 "nbformat_minor": 2,
 "metadata": {
  "orig_nbformat": 2,
  "deepnote": {},
  "deepnote_notebook_id": "c718506e-aa56-404d-8fb0-b1f430e043b1",
  "deepnote_execution_queue": []
 }
}