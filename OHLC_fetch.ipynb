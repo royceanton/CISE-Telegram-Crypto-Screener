{
 "cells": [
  {
   "cell_type": "code",
   "metadata": {
    "tags": [],
    "cell_id": "3e29bd5d-d6d9-400e-b595-53246b8f7ae6",
    "deepnote_to_be_reexecuted": false,
    "source_hash": "42c1994f",
    "execution_start": 1662035857124,
    "execution_millis": 148,
    "deepnote_cell_type": "code",
    "deepnote_cell_height": 364
   },
   "source": "import pandas as pd\nimport numpy as np\nimport datetime\nimport requests\nimport threading\nimport time\nimport concurrent\nimport os\nimport csv\nimport pyarrow.feather as feather\n\nfrom ta import add_all_ta_features\nfrom ta.utils import dropna\nfrom ta.trend import STCIndicator\n\nimport plotly.express as px\nimport plotly.graph_objects as go",
   "outputs": [],
   "execution_count": null
  },
  {
   "cell_type": "code",
   "metadata": {
    "cell_id": "545d299ed842434182da8844b83643ef",
    "tags": [],
    "deepnote_to_be_reexecuted": false,
    "source_hash": "7321d12d",
    "execution_start": 1662035857297,
    "execution_millis": 1,
    "deepnote_cell_type": "code",
    "deepnote_cell_height": 148
   },
   "source": "outdir = ['OHLC5m','OHLC30m','OHLC1h','OHLC1D','STC','EMA','CPR','IB']\nfor folder in outdir:\n    if not os.path.exists(folder):\n        os.mkdir(folder)\n",
   "outputs": [],
   "execution_count": null
  },
  {
   "cell_type": "code",
   "metadata": {
    "cell_id": "a23600684555434895559deb066d707e",
    "tags": [],
    "deepnote_to_be_reexecuted": false,
    "source_hash": "4d5d03f9",
    "execution_start": 1662035857298,
    "execution_millis": 1,
    "deepnote_cell_type": "code",
    "deepnote_cell_height": 148
   },
   "source": "tickers = []\nwith open('symbols.csv', newline='') as inputfile:\n    for row in csv.reader(inputfile):\n        tickers.append(row[0])\n    tickers.pop(0) #remove zero index",
   "outputs": [],
   "execution_count": null
  },
  {
   "cell_type": "code",
   "metadata": {
    "cell_id": "6db0e1e4dd9241298a917cbf856340ba",
    "tags": [],
    "deepnote_to_be_reexecuted": false,
    "source_hash": "ece010e9",
    "execution_start": 1662035857299,
    "execution_millis": 3,
    "is_code_hidden": false,
    "deepnote_cell_type": "code",
    "deepnote_cell_height": 796
   },
   "source": "def fetch_ohlc(symbol, timeframe, timesymbol):\n\n        symbol = symbol\n        timeframe = timeframe\n        timesymbol = timesymbol\n\n        # fetch data-binance api\n        candlestick_url = (\n            \"https://fapi.binance.com/fapi/v1/continuousKlines?pair=\"\n            + symbol\n            + \"&contractType=PERPETUAL&interval=\"\n            + str(timeframe)\n            + timesymbol\n            + \"&limit=1500\"\n        )\n        candlestick_chart = requests.get(candlestick_url).json()\n        candlestick_df = pd.DataFrame(candlestick_chart)\n        candlestick_df = candlestick_df.iloc[:, 1:7]\n        candlestick_df.columns = [\"open\", \"high\", \"low\", \"close\", \"volume\", \"date\"]\n        candlestick_df[\"date\"] = pd.to_datetime(\n            candlestick_df[\"date\"], unit=\"ms\"\n        ).round(\"1s\")\n        candlestick_df.insert(0, \"date\", candlestick_df.pop(\"date\"))\n\n        # reset to midnight\n        candlestick_df.date = pd.to_datetime(candlestick_df.date)\n        min_date = candlestick_df.date.min()\n        NextDay_Date = (min_date + datetime.timedelta(days=1)).replace(\n            hour=0, minute=0, second=0, microsecond=0\n        )\n        candlestick_df = candlestick_df[candlestick_df.date >= NextDay_Date].copy()\n\n        candlestick_df = candlestick_df.set_index(\"date\")\n        candlestick_df[\"symbol\"] = symbol\n\n        ohlc_data = candlestick_df\n\n        cols = [\"open\", \"high\", \"low\", \"close\", \"volume\"]\n        ohlc_data[cols] = ohlc_data[cols].apply(pd.to_numeric, errors=\"coerce\")\n        ohlc_data[cols] = ohlc_data[cols].round(decimals=8) #decimal important for small alts\n        return ohlc_data",
   "outputs": [],
   "execution_count": null
  },
  {
   "cell_type": "code",
   "metadata": {
    "cell_id": "960c277ed99c4c759b8f477300181ce8",
    "tags": [],
    "deepnote_to_be_reexecuted": false,
    "source_hash": "b7da2085",
    "execution_start": 1662035857302,
    "execution_millis": 5,
    "deepnote_cell_type": "code",
    "deepnote_cell_height": 382
   },
   "source": "def ohlc_smaller(symbol):\n    smaller = fetch_ohlc(symbol,5,'m')\n    smaller.to_csv(f\"OHLC5m/\"+symbol+\"5m.csv\")\n\ndef ohlc_larger(symbol):\n    try:\n        larger = fetch_ohlc(symbol,1,'h')\n        larger.to_csv(f\"OHLC1h/\"+symbol+\"1h.csv\")\n    except ValueError:\n        pass\n\n#optional daily ohlc data\ndef ohlc_daily(symbol):\n    try:\n        daily = fetch_ohlc(symbol,1,'d')\n        daily.to_csv(f\"OHLC1D/\"+symbol+\"1d.csv\")\n    except ValueError:\n        pass",
   "outputs": [],
   "execution_count": null
  },
  {
   "cell_type": "code",
   "metadata": {
    "cell_id": "19e89a38522b4906a77b89c959fc5cbd",
    "tags": [],
    "deepnote_to_be_reexecuted": false,
    "source_hash": "70d81882",
    "execution_start": 1662035857341,
    "execution_millis": 6931,
    "owner_user_id": "bc1e1ad8-1812-44f1-8f46-4a52a23ed6fa",
    "deepnote_cell_type": "code",
    "deepnote_cell_height": 112
   },
   "source": "with concurrent.futures.ProcessPoolExecutor() as executor:\n     result = [executor.submit(ohlc_smaller,symbol) \n               for symbol in tickers]",
   "outputs": [],
   "execution_count": null
  },
  {
   "cell_type": "code",
   "metadata": {
    "cell_id": "3ea2f66c2c0a4be48897ca8987989c92",
    "tags": [],
    "deepnote_to_be_reexecuted": false,
    "source_hash": "14309370",
    "execution_start": 1662035864276,
    "execution_millis": 6821,
    "deepnote_cell_type": "code",
    "deepnote_cell_height": 112
   },
   "source": "with concurrent.futures.ProcessPoolExecutor() as executor:\n     result = [executor.submit(ohlc_larger,symbol) \n               for symbol in tickers]",
   "outputs": [],
   "execution_count": null
  },
  {
   "cell_type": "code",
   "metadata": {
    "cell_id": "89be00d1d6ba45479aa61ebf986c1ca5",
    "tags": [],
    "deepnote_to_be_reexecuted": false,
    "source_hash": "b623e53d",
    "execution_start": 1662035871103,
    "execution_millis": 45,
    "deepnote_cell_type": "code",
    "deepnote_cell_height": 76
   },
   "source": "",
   "outputs": [],
   "execution_count": null
  },
  {
   "cell_type": "markdown",
   "source": "<a style='text-decoration:none;line-height:16px;display:flex;color:#5B5B62;padding:10px;justify-content:end;' href='https://deepnote.com?utm_source=created-in-deepnote-cell&projectId=616d9311-e28a-4f68-a1e2-cfa37b447691' target=\"_blank\">\n<img alt='Created in deepnote.com' style='display:inline;max-height:16px;margin:0px;margin-right:7.5px;' src='data:image/svg+xml;base64,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' > </img>\nCreated in <span style='font-weight:600;margin-left:4px;'>Deepnote</span></a>",
   "metadata": {
    "tags": [],
    "created_in_deepnote_cell": true,
    "deepnote_cell_type": "markdown"
   }
  }
 ],
 "nbformat": 4,
 "nbformat_minor": 2,
 "metadata": {
  "orig_nbformat": 2,
  "deepnote": {},
  "deepnote_notebook_id": "db135f0e-87d8-4e7b-8914-b3e89cf87094",
  "deepnote_execution_queue": [],
  "deepnote_persisted_session": {
   "filename": "session_dump_db135f0e-87d8-4e7b-8914-b3e89cf87094.pkl",
   "createdAt": "2022-09-01T13:01:29.189Z"
  }
 }
}