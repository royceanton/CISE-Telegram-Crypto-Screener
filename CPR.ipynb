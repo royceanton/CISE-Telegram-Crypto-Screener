{
 "cells": [
  {
   "cell_type": "code",
   "metadata": {
    "tags": [],
    "cell_id": "e7e56d7c-5382-47bd-931e-b743c6c3df0d",
    "deepnote_to_be_reexecuted": false,
    "source_hash": "e4d46c89",
    "execution_start": 1654623151456,
    "execution_millis": 200,
    "deepnote_cell_type": "code",
    "deepnote_cell_height": 364
   },
   "source": "import pandas as pd\nimport numpy as np\nimport datetime\nimport requests\nimport threading\nimport time\nimport concurrent\nimport os, random\nimport csv\nimport glob\n\nfrom ta import add_all_ta_features\nfrom ta.utils import dropna\nfrom ta.trend import STCIndicator\n\nimport plotly.express as px\nimport plotly.graph_objects as go",
   "execution_count": null,
   "outputs": []
  },
  {
   "cell_type": "code",
   "metadata": {
    "cell_id": "c586d15a3ff1421dbad7b67ca24e7b40",
    "tags": [],
    "deepnote_to_be_reexecuted": false,
    "source_hash": "4d5d03f9",
    "execution_start": 1654623151665,
    "execution_millis": 1,
    "deepnote_cell_type": "code",
    "deepnote_cell_height": 148
   },
   "source": "tickers = []\nwith open('symbols.csv', newline='') as inputfile:\n    for row in csv.reader(inputfile):\n        tickers.append(row[0])\n    tickers.pop(0) #remove zero index",
   "execution_count": null,
   "outputs": []
  },
  {
   "cell_type": "code",
   "metadata": {
    "cell_id": "702a0399358a484b82e59bfab2ec0fca",
    "tags": [],
    "deepnote_to_be_reexecuted": false,
    "source_hash": "777d9532",
    "execution_start": 1654623151703,
    "execution_millis": 6768,
    "owner_user_id": "bc1e1ad8-1812-44f1-8f46-4a52a23ed6fa",
    "deepnote_cell_type": "code",
    "deepnote_cell_height": 2110
   },
   "source": "\ntry:\n    for symbol in tickers:\n        try:\n            df = pd.read_csv(f\"OHLC1h/\"+symbol+'1h.csv')\n        except FileNotFoundError:\n            pass\n        \n        df['date'] = pd.to_datetime(df['date'])\n        df = df.set_index('date')\n\n        columns_dict = {'open': 'first', \n                        'high': 'max', \n                        'low': 'min', \n                        'close': 'last'}\n        df = df.resample('D').agg(columns_dict)\n        df = df.reset_index()\n        df['date'] = pd.to_datetime(df['date']).dt.date\n        df['symbol'] = symbol\n\n\n        #cpr calculation\n        df['pivot'] = (df['high']+ df['low'] + df['close'])/3\n\n        df['bc'] = (df['high'] + df['low'])/2\n        df['tc'] = (df['pivot'] - df['bc']) + df['pivot']\n\n        df['r1'] = 2*df['pivot'] - df['low']\n        df['s1'] = 2*df['pivot'] - df['high']\n\n        df['r2'] = df['pivot'] + (df['r1'] - df['s1'])\n        df['s2'] = df['pivot'] - (df['r1'] - df['s1'])\n\n        df['width'] = df['tc'] - df['bc']\n\n        #extracting previous day high-low\n        df['previous_high'] = df['high'].shift(1)\n        df['previous_low'] = df['low'].shift(1)\n\n\n        #checking for narrow cpr\n        window = 9\n        cpr_avg_width = df['width'].rolling(window = window).mean()\n        cpr_sd = df['width'].rolling(window=window).std()\n\n        df['narrow_cpr'] =df['width'] < cpr_avg_width - cpr_sd\n        df['moderate_cpr'] = (df['width']>= cpr_avg_width-cpr_sd) & (df['width']<= cpr_avg_width+cpr_sd)\n        df['wide_cpr'] =df['width'] > cpr_avg_width + cpr_sd\n\n        df['width'] = df.apply(lambda x: 'narrow' if x.narrow_cpr == True \n                                else ('moderate' if x.moderate_cpr == True \n                                else 'wide'), axis =1)\n\n        df = df.drop(['narrow_cpr','moderate_cpr','wide_cpr'], axis=1)\n\n\n        #shift all rows after calculations\n        df['pivot'] = df['pivot'].shift(1)\n        df['bc'] = df['bc'].shift(1)\n        df['tc'] = df['tc'].shift(1) \n        df['r1'] = df['r1'].shift(1)\n        df['s1'] = df['s1'].shift(1)\n        df['r2'] = df['r2'].shift(1)\n        df['s2'] = df['s2'].shift(1)\n        \n        #checking for general trend\n        df['pivot_shifted'] = df['pivot'].shift(1)\n        df['cpr_trend'] = np.where(df['pivot']>df['pivot_shifted'], 'uptrend','downtrend')\n        df.drop(['pivot_shifted'], axis=1)\n\n        #check current day open \n        def check_trend_open(check_df):\n\n            if (check_df['open'] > check_df['pivot'] and\n                check_df['open'] > check_df['bc'] and\n                check_df['open'] > check_df['tc']):\n                return 'above'\n\n            elif (check_df['open'] < check_df['pivot'] and\n                  check_df['open'] < check_df['bc'] and\n                  check_df['open'] < check_df['tc']):\n                return 'below'\n\n            else:\n                return 'Neutral'\n\n            return\n\n        df['day_open'] = df.apply(check_trend_open, axis =1)\n\n        #check for daily opportunity\n        def check_trend_daily(check_df):\n\n            if (check_df['day_open'] == 'above' and\n                check_df['cpr_trend'] == 'uptrend'):\n                return 'long'\n\n            elif (check_df['day_open'] == 'below' and\n                check_df['cpr_trend'] == 'downtrend'):\n                return 'short'\n            else:\n                return 'unclear'\n\n            return\n        \n        df['cpr_opportunity'] = df.apply(check_trend_daily, axis =1)\n        \n        column_to_move = df.pop('symbol')\n        df.insert(0, 'symbol', column_to_move)\n\n\n        df.to_csv(f\"CPR/\"+symbol+'cpr.csv', index= False)\nexcept FileNotFoundError:\n    pass",
   "execution_count": null,
   "outputs": []
  },
  {
   "cell_type": "code",
   "metadata": {
    "cell_id": "8f80371244ca43efb99b57676e49b0e9",
    "tags": [],
    "deepnote_to_be_reexecuted": false,
    "source_hash": "d2ce4152",
    "execution_start": 1654623158475,
    "execution_millis": 17,
    "deepnote_cell_type": "code",
    "deepnote_cell_height": 148
   },
   "source": "file = glob.glob('CPR/*.csv')\nrandom_files=np.random.choice(file,2)\nfile = file[1]\nrandom_df =  pd.read_csv(file)\ncpr_df = random_df.tail(1)",
   "execution_count": null,
   "outputs": []
  },
  {
   "cell_type": "code",
   "metadata": {
    "cell_id": "e39016417fdf46b7b1dcdf7dd07ade9e",
    "tags": [],
    "deepnote_to_be_reexecuted": false,
    "source_hash": "3e7be353",
    "execution_start": 1654623158495,
    "execution_millis": 1759,
    "deepnote_cell_type": "code",
    "deepnote_cell_height": 202
   },
   "source": "for symbol in tickers:\n    try:\n        df = pd.read_csv(f\"CPR/\"+symbol+\"cpr.csv\")\n        df = df.tail(1)\n        cpr_df = cpr_df.append(df)\n        cpr_df = cpr_df.drop_duplicates()\n    except FileNotFoundError:\n        pass",
   "execution_count": null,
   "outputs": []
  },
  {
   "cell_type": "code",
   "metadata": {
    "cell_id": "c3518a5a694a4aac8325f4780b7c7591",
    "tags": [],
    "deepnote_to_be_reexecuted": false,
    "source_hash": "471670b5",
    "execution_start": 1654623160257,
    "execution_millis": 6,
    "deepnote_table_state": {
     "pageSize": 50,
     "pageIndex": 0,
     "filters": [],
     "sortBy": []
    },
    "deepnote_table_loading": false,
    "deepnote_cell_type": "code",
    "deepnote_cell_height": 76
   },
   "source": "cpr_df.to_csv('CPR/CPR.csv', index=False)",
   "execution_count": null,
   "outputs": []
  },
  {
   "cell_type": "code",
   "metadata": {
    "cell_id": "60ea692c3e404cbc8e7a71be88d2d4d8",
    "tags": [],
    "deepnote_to_be_reexecuted": false,
    "source_hash": "670adb38",
    "execution_start": 1654623160266,
    "execution_millis": 104,
    "deepnote_table_state": {
     "pageSize": 25,
     "pageIndex": 0,
     "filters": [],
     "sortBy": []
    },
    "deepnote_table_loading": false,
    "deepnote_cell_type": "code",
    "deepnote_cell_height": 1226.796875
   },
   "source": "pd.read_csv('CPR/CPR.csv')",
   "execution_count": null,
   "outputs": [
    {
     "output_type": "execute_result",
     "execution_count": 7,
     "data": {
      "application/vnd.deepnote.dataframe.v3+json": {
       "column_count": 20,
       "row_count": 142,
       "columns": [
        {
         "name": "symbol",
         "dtype": "object",
         "stats": {
          "unique_count": 142,
          "nan_count": 0,
          "categories": [
           {
            "name": "REEFUSDT",
            "count": 1
           },
           {
            "name": "IOTXUSDT",
            "count": 1
           },
           {
            "name": "140 others",
            "count": 140
           }
          ]
         }
        },
        {
         "name": "date",
         "dtype": "object",
         "stats": {
          "unique_count": 1,
          "nan_count": 0,
          "categories": [
           {
            "name": "2022-06-07",
            "count": 142
           }
          ]
         }
        },
        {
         "name": "open",
         "dtype": "float64",
         "stats": {
          "unique_count": 142,
          "nan_count": 0,
          "min": "0.00129",
          "max": "31392.8",
          "histogram": [
           {
            "bin_start": 0.00129,
            "bin_end": 3139.281161,
            "count": 140
           },
           {
            "bin_start": 3139.281161,
            "bin_end": 6278.561032,
            "count": 0
           },
           {
            "bin_start": 6278.561032,
            "bin_end": 9417.840903,
            "count": 1
           },
           {
            "bin_start": 9417.840903,
            "bin_end": 12557.120773999999,
            "count": 0
           },
           {
            "bin_start": 12557.120773999999,
            "bin_end": 15696.400644999998,
            "count": 0
           },
           {
            "bin_start": 15696.400644999998,
            "bin_end": 18835.680516,
            "count": 0
           },
           {
            "bin_start": 18835.680516,
            "bin_end": 21974.960387,
            "count": 0
           },
           {
            "bin_start": 21974.960387,
            "bin_end": 25114.240257999998,
            "count": 0
           },
           {
            "bin_start": 25114.240257999998,
            "bin_end": 28253.520128999997,
            "count": 0
           },
           {
            "bin_start": 28253.520128999997,
            "bin_end": 31392.8,
            "count": 1
           }
          ]
         }
        },
        {
         "name": "high",
         "dtype": "float64",
         "stats": {
          "unique_count": 142,
          "nan_count": 0,
          "min": "0.001302",
          "max": "31423.1",
          "histogram": [
           {
            "bin_start": 0.001302,
            "bin_end": 3142.3111718,
            "count": 140
           },
           {
            "bin_start": 3142.3111718,
            "bin_end": 6284.621041599999,
            "count": 0
           },
           {
            "bin_start": 6284.621041599999,
            "bin_end": 9426.9309114,
            "count": 1
           },
           {
            "bin_start": 9426.9309114,
            "bin_end": 12569.2407812,
            "count": 0
           },
           {
            "bin_start": 12569.2407812,
            "bin_end": 15711.550651,
            "count": 0
           },
           {
            "bin_start": 15711.550651,
            "bin_end": 18853.8605208,
            "count": 0
           },
           {
            "bin_start": 18853.8605208,
            "bin_end": 21996.1703906,
            "count": 0
           },
           {
            "bin_start": 21996.1703906,
            "bin_end": 25138.4802604,
            "count": 0
           },
           {
            "bin_start": 25138.4802604,
            "bin_end": 28280.7901302,
            "count": 0
           },
           {
            "bin_start": 28280.7901302,
            "bin_end": 31423.1,
            "count": 1
           }
          ]
         }
        },
        {
         "name": "low",
         "dtype": "float64",
         "stats": {
          "unique_count": 141,
          "nan_count": 0,
          "min": "0.001185",
          "max": "29190.0",
          "histogram": [
           {
            "bin_start": 0.001185,
            "bin_end": 2919.0010665,
            "count": 140
           },
           {
            "bin_start": 2919.0010665,
            "bin_end": 5838.000948,
            "count": 0
           },
           {
            "bin_start": 5838.000948,
            "bin_end": 8757.000829499999,
            "count": 1
           },
           {
            "bin_start": 8757.000829499999,
            "bin_end": 11676.000710999999,
            "count": 0
           },
           {
            "bin_start": 11676.000710999999,
            "bin_end": 14595.000592499999,
            "count": 0
           },
           {
            "bin_start": 14595.000592499999,
            "bin_end": 17514.000474,
            "count": 0
           },
           {
            "bin_start": 17514.000474,
            "bin_end": 20433.0003555,
            "count": 0
           },
           {
            "bin_start": 20433.0003555,
            "bin_end": 23352.000237,
            "count": 0
           },
           {
            "bin_start": 23352.000237,
            "bin_end": 26271.0001185,
            "count": 0
           },
           {
            "bin_start": 26271.0001185,
            "bin_end": 29190,
            "count": 1
           }
          ]
         }
        },
        {
         "name": "close",
         "dtype": "float64",
         "stats": {
          "unique_count": 142,
          "nan_count": 0,
          "min": "0.001244",
          "max": "29869.2",
          "histogram": [
           {
            "bin_start": 0.001244,
            "bin_end": 2986.9211196,
            "count": 140
           },
           {
            "bin_start": 2986.9211196,
            "bin_end": 5973.8409952,
            "count": 0
           },
           {
            "bin_start": 5973.8409952,
            "bin_end": 8960.760870799999,
            "count": 1
           },
           {
            "bin_start": 8960.760870799999,
            "bin_end": 11947.6807464,
            "count": 0
           },
           {
            "bin_start": 11947.6807464,
            "bin_end": 14934.600622,
            "count": 0
           },
           {
            "bin_start": 14934.600622,
            "bin_end": 17921.5204976,
            "count": 0
           },
           {
            "bin_start": 17921.5204976,
            "bin_end": 20908.4403732,
            "count": 0
           },
           {
            "bin_start": 20908.4403732,
            "bin_end": 23895.3602488,
            "count": 0
           },
           {
            "bin_start": 23895.3602488,
            "bin_end": 26882.2801244,
            "count": 0
           },
           {
            "bin_start": 26882.2801244,
            "bin_end": 29869.2,
            "count": 1
           }
          ]
         }
        },
        {
         "name": "pivot",
         "dtype": "float64",
         "stats": {
          "unique_count": 142,
          "nan_count": 0,
          "min": "0.001286",
          "max": "31016.3",
          "histogram": [
           {
            "bin_start": 0.001286,
            "bin_end": 3101.6311574,
            "count": 140
           },
           {
            "bin_start": 3101.6311574,
            "bin_end": 6203.2610288,
            "count": 0
           },
           {
            "bin_start": 6203.2610288,
            "bin_end": 9304.8909002,
            "count": 1
           },
           {
            "bin_start": 9304.8909002,
            "bin_end": 12406.5207716,
            "count": 0
           },
           {
            "bin_start": 12406.5207716,
            "bin_end": 15508.150643,
            "count": 0
           },
           {
            "bin_start": 15508.150643,
            "bin_end": 18609.780514399998,
            "count": 0
           },
           {
            "bin_start": 18609.780514399998,
            "bin_end": 21711.410385799998,
            "count": 0
           },
           {
            "bin_start": 21711.410385799998,
            "bin_end": 24813.0402572,
            "count": 0
           },
           {
            "bin_start": 24813.0402572,
            "bin_end": 27914.6701286,
            "count": 0
           },
           {
            "bin_start": 27914.6701286,
            "bin_end": 31016.3,
            "count": 1
           }
          ]
         }
        },
        {
         "name": "bc",
         "dtype": "float64",
         "stats": {
          "unique_count": 142,
          "nan_count": 0,
          "min": "0.001284",
          "max": "30828.1",
          "histogram": [
           {
            "bin_start": 0.001284,
            "bin_end": 3082.8111555999994,
            "count": 140
           },
           {
            "bin_start": 3082.8111555999994,
            "bin_end": 6165.621027199999,
            "count": 0
           },
           {
            "bin_start": 6165.621027199999,
            "bin_end": 9248.4308988,
            "count": 1
           },
           {
            "bin_start": 9248.4308988,
            "bin_end": 12331.240770399998,
            "count": 0
           },
           {
            "bin_start": 12331.240770399998,
            "bin_end": 15414.050641999997,
            "count": 0
           },
           {
            "bin_start": 15414.050641999997,
            "bin_end": 18496.8605136,
            "count": 0
           },
           {
            "bin_start": 18496.8605136,
            "bin_end": 21579.6703852,
            "count": 0
           },
           {
            "bin_start": 21579.6703852,
            "bin_end": 24662.480256799998,
            "count": 0
           },
           {
            "bin_start": 24662.480256799998,
            "bin_end": 27745.290128399996,
            "count": 0
           },
           {
            "bin_start": 27745.290128399996,
            "bin_end": 30828.1,
            "count": 1
           }
          ]
         }
        },
        {
         "name": "tc",
         "dtype": "float64",
         "stats": {
          "unique_count": 142,
          "nan_count": 0,
          "min": "0.001288",
          "max": "31204.5",
          "histogram": [
           {
            "bin_start": 0.001288,
            "bin_end": 3120.4511592,
            "count": 140
           },
           {
            "bin_start": 3120.4511592,
            "bin_end": 6240.9010304,
            "count": 0
           },
           {
            "bin_start": 6240.9010304,
            "bin_end": 9361.350901599999,
            "count": 1
           },
           {
            "bin_start": 9361.350901599999,
            "bin_end": 12481.8007728,
            "count": 0
           },
           {
            "bin_start": 12481.8007728,
            "bin_end": 15602.250644,
            "count": 0
           },
           {
            "bin_start": 15602.250644,
            "bin_end": 18722.7005152,
            "count": 0
           },
           {
            "bin_start": 18722.7005152,
            "bin_end": 21843.1503864,
            "count": 0
           },
           {
            "bin_start": 21843.1503864,
            "bin_end": 24963.6002576,
            "count": 0
           },
           {
            "bin_start": 24963.6002576,
            "bin_end": 28084.050128799998,
            "count": 0
           },
           {
            "bin_start": 28084.050128799998,
            "bin_end": 31204.5,
            "count": 1
           }
          ]
         }
        },
        {
         "name": "r1",
         "dtype": "float64",
         "stats": {
          "unique_count": 142,
          "nan_count": 0,
          "min": "0.001342",
          "max": "32156.4",
          "histogram": [
           {
            "bin_start": 0.001342,
            "bin_end": 3215.6412078000003,
            "count": 140
           },
           {
            "bin_start": 3215.6412078000003,
            "bin_end": 6431.2810736,
            "count": 0
           },
           {
            "bin_start": 6431.2810736,
            "bin_end": 9646.9209394,
            "count": 1
           },
           {
            "bin_start": 9646.9209394,
            "bin_end": 12862.5608052,
            "count": 0
           },
           {
            "bin_start": 12862.5608052,
            "bin_end": 16078.200671,
            "count": 0
           },
           {
            "bin_start": 16078.200671,
            "bin_end": 19293.840536800002,
            "count": 0
           },
           {
            "bin_start": 19293.840536800002,
            "bin_end": 22509.480402600002,
            "count": 0
           },
           {
            "bin_start": 22509.480402600002,
            "bin_end": 25725.1202684,
            "count": 0
           },
           {
            "bin_start": 25725.1202684,
            "bin_end": 28940.7601342,
            "count": 0
           },
           {
            "bin_start": 28940.7601342,
            "bin_end": 32156.4,
            "count": 1
           }
          ]
         }
        },
        {
         "name": "s1",
         "dtype": "float64",
         "stats": {
          "unique_count": 142,
          "nan_count": 0,
          "min": "0.001234",
          "max": "30252.6",
          "histogram": [
           {
            "bin_start": 0.001234,
            "bin_end": 3025.2611106,
            "count": 140
           },
           {
            "bin_start": 3025.2611106,
            "bin_end": 6050.5209872000005,
            "count": 0
           },
           {
            "bin_start": 6050.5209872000005,
            "bin_end": 9075.780863799999,
            "count": 1
           },
           {
            "bin_start": 9075.780863799999,
            "bin_end": 12101.0407404,
            "count": 0
           },
           {
            "bin_start": 12101.0407404,
            "bin_end": 15126.300617,
            "count": 0
           },
           {
            "bin_start": 15126.300617,
            "bin_end": 18151.560493599998,
            "count": 0
           },
           {
            "bin_start": 18151.560493599998,
            "bin_end": 21176.8203702,
            "count": 0
           },
           {
            "bin_start": 21176.8203702,
            "bin_end": 24202.0802468,
            "count": 0
           },
           {
            "bin_start": 24202.0802468,
            "bin_end": 27227.3401234,
            "count": 0
           },
           {
            "bin_start": 27227.3401234,
            "bin_end": 30252.6,
            "count": 1
           }
          ]
         }
        },
        {
         "name": "r2",
         "dtype": "float64",
         "stats": {
          "unique_count": 142,
          "nan_count": 0,
          "min": "0.001394",
          "max": "32920.1",
          "histogram": [
           {
            "bin_start": 0.001394,
            "bin_end": 3292.0112546,
            "count": 140
           },
           {
            "bin_start": 3292.0112546,
            "bin_end": 6584.0211152,
            "count": 0
           },
           {
            "bin_start": 6584.0211152,
            "bin_end": 9876.030975800002,
            "count": 1
           },
           {
            "bin_start": 9876.030975800002,
            "bin_end": 13168.040836400001,
            "count": 0
           },
           {
            "bin_start": 13168.040836400001,
            "bin_end": 16460.050697,
            "count": 0
           },
           {
            "bin_start": 16460.050697,
            "bin_end": 19752.0605576,
            "count": 0
           },
           {
            "bin_start": 19752.0605576,
            "bin_end": 23044.0704182,
            "count": 0
           },
           {
            "bin_start": 23044.0704182,
            "bin_end": 26336.0802788,
            "count": 0
           },
           {
            "bin_start": 26336.0802788,
            "bin_end": 29628.0901394,
            "count": 0
           },
           {
            "bin_start": 29628.0901394,
            "bin_end": 32920.1,
            "count": 1
           }
          ]
         }
        },
        {
         "name": "s2",
         "dtype": "float64",
         "stats": {
          "unique_count": 141,
          "nan_count": 0,
          "min": "0.001178",
          "max": "29112.5",
          "histogram": [
           {
            "bin_start": 0.001178,
            "bin_end": 2911.2510602,
            "count": 140
           },
           {
            "bin_start": 2911.2510602,
            "bin_end": 5822.500942400001,
            "count": 0
           },
           {
            "bin_start": 5822.500942400001,
            "bin_end": 8733.750824600002,
            "count": 1
           },
           {
            "bin_start": 8733.750824600002,
            "bin_end": 11645.000706800001,
            "count": 0
           },
           {
            "bin_start": 11645.000706800001,
            "bin_end": 14556.250589000001,
            "count": 0
           },
           {
            "bin_start": 14556.250589000001,
            "bin_end": 17467.5004712,
            "count": 0
           },
           {
            "bin_start": 17467.5004712,
            "bin_end": 20378.7503534,
            "count": 0
           },
           {
            "bin_start": 20378.7503534,
            "bin_end": 23290.0002356,
            "count": 0
           },
           {
            "bin_start": 23290.0002356,
            "bin_end": 26201.250117800002,
            "count": 0
           },
           {
            "bin_start": 26201.250117800002,
            "bin_end": 29112.5,
            "count": 1
           }
          ]
         }
        },
        {
         "name": "width",
         "dtype": "object",
         "stats": {
          "unique_count": 3,
          "nan_count": 0,
          "categories": [
           {
            "name": "moderate",
            "count": 123
           },
           {
            "name": "narrow",
            "count": 16
           },
           {
            "name": "wide",
            "count": 3
           }
          ]
         }
        },
        {
         "name": "previous_high",
         "dtype": "float64",
         "stats": {
          "unique_count": 141,
          "nan_count": 0,
          "min": "0.001338",
          "max": "31780.0",
          "histogram": [
           {
            "bin_start": 0.001338,
            "bin_end": 3178.0012042000003,
            "count": 140
           },
           {
            "bin_start": 3178.0012042000003,
            "bin_end": 6356.001070400001,
            "count": 0
           },
           {
            "bin_start": 6356.001070400001,
            "bin_end": 9534.000936600001,
            "count": 1
           },
           {
            "bin_start": 9534.000936600001,
            "bin_end": 12712.000802800001,
            "count": 0
           },
           {
            "bin_start": 12712.000802800001,
            "bin_end": 15890.000669000001,
            "count": 0
           },
           {
            "bin_start": 15890.000669000001,
            "bin_end": 19068.0005352,
            "count": 0
           },
           {
            "bin_start": 19068.0005352,
            "bin_end": 22246.0004014,
            "count": 0
           },
           {
            "bin_start": 22246.0004014,
            "bin_end": 25424.0002676,
            "count": 0
           },
           {
            "bin_start": 25424.0002676,
            "bin_end": 28602.0001338,
            "count": 0
           },
           {
            "bin_start": 28602.0001338,
            "bin_end": 31780,
            "count": 1
           }
          ]
         }
        },
        {
         "name": "previous_low",
         "dtype": "float64",
         "stats": {
          "unique_count": 142,
          "nan_count": 0,
          "min": "0.00123",
          "max": "29876.2",
          "histogram": [
           {
            "bin_start": 0.00123,
            "bin_end": 2987.621107,
            "count": 140
           },
           {
            "bin_start": 2987.621107,
            "bin_end": 5975.240984,
            "count": 0
           },
           {
            "bin_start": 5975.240984,
            "bin_end": 8962.860861,
            "count": 1
           },
           {
            "bin_start": 8962.860861,
            "bin_end": 11950.480738,
            "count": 0
           },
           {
            "bin_start": 11950.480738,
            "bin_end": 14938.100615000001,
            "count": 0
           },
           {
            "bin_start": 14938.100615000001,
            "bin_end": 17925.720492,
            "count": 0
           },
           {
            "bin_start": 17925.720492,
            "bin_end": 20913.340369,
            "count": 0
           },
           {
            "bin_start": 20913.340369,
            "bin_end": 23900.960246000002,
            "count": 0
           },
           {
            "bin_start": 23900.960246000002,
            "bin_end": 26888.580123000003,
            "count": 0
           },
           {
            "bin_start": 26888.580123000003,
            "bin_end": 29876.2,
            "count": 1
           }
          ]
         }
        },
        {
         "name": "pivot_shifted",
         "dtype": "float64",
         "stats": {
          "unique_count": 142,
          "nan_count": 0,
          "min": "0.0012366666666666",
          "max": "29926.4",
          "histogram": [
           {
            "bin_start": 0.0012366666666666,
            "bin_end": 2992.641113,
            "count": 140
           },
           {
            "bin_start": 2992.641113,
            "bin_end": 5985.280989333334,
            "count": 0
           },
           {
            "bin_start": 5985.280989333334,
            "bin_end": 8977.920865666667,
            "count": 1
           },
           {
            "bin_start": 8977.920865666667,
            "bin_end": 11970.560742000001,
            "count": 0
           },
           {
            "bin_start": 11970.560742000001,
            "bin_end": 14963.200618333336,
            "count": 0
           },
           {
            "bin_start": 14963.200618333336,
            "bin_end": 17955.840494666667,
            "count": 0
           },
           {
            "bin_start": 17955.840494666667,
            "bin_end": 20948.480371,
            "count": 0
           },
           {
            "bin_start": 20948.480371,
            "bin_end": 23941.120247333336,
            "count": 0
           },
           {
            "bin_start": 23941.120247333336,
            "bin_end": 26933.76012366667,
            "count": 0
           },
           {
            "bin_start": 26933.76012366667,
            "bin_end": 29926.4,
            "count": 1
           }
          ]
         }
        },
        {
         "name": "cpr_trend",
         "dtype": "object",
         "stats": {
          "unique_count": 2,
          "nan_count": 0,
          "categories": [
           {
            "name": "uptrend",
            "count": 138
           },
           {
            "name": "downtrend",
            "count": 4
           }
          ]
         }
        },
        {
         "name": "day_open",
         "dtype": "object",
         "stats": {
          "unique_count": 3,
          "nan_count": 0,
          "categories": [
           {
            "name": "below",
            "count": 95
           },
           {
            "name": "above",
            "count": 44
           },
           {
            "name": "Neutral",
            "count": 3
           }
          ]
         }
        },
        {
         "name": "cpr_opportunity",
         "dtype": "object",
         "stats": {
          "unique_count": 3,
          "nan_count": 0,
          "categories": [
           {
            "name": "unclear",
            "count": 94
           },
           {
            "name": "long",
            "count": 44
           },
           {
            "name": "short",
            "count": 4
           }
          ]
         }
        },
        {
         "name": "_deepnote_index_column",
         "dtype": "int64"
        }
       ],
       "rows": [
        {
         "symbol": "REEFUSDT",
         "date": "2022-06-07",
         "open": 0.004423,
         "high": 0.004471,
         "low": 0.004099,
         "close": 0.004256,
         "pivot": 0.00447,
         "bc": 0.0044935,
         "tc": 0.0044465,
         "r1": 0.004599,
         "s1": 0.004294,
         "r2": 0.004775,
         "s2": 0.004165,
         "width": "moderate",
         "previous_high": 0.004646,
         "previous_low": 0.004341,
         "pivot_shifted": 0.004383,
         "cpr_trend": "uptrend",
         "day_open": "below",
         "cpr_opportunity": "unclear",
         "_deepnote_index_column": 0
        },
        {
         "symbol": "IOTXUSDT",
         "date": "2022-06-07",
         "open": 0.03457,
         "high": 0.03491,
         "low": 0.03173,
         "close": 0.03333,
         "pivot": 0.0347599999999999,
         "bc": 0.034855,
         "tc": 0.0346649999999999,
         "r1": 0.0359099999999999,
         "s1": 0.0334199999999999,
         "r2": 0.0372499999999999,
         "s2": 0.0322699999999999,
         "width": "moderate",
         "previous_high": 0.0361,
         "previous_low": 0.03361,
         "pivot_shifted": 0.0342166666666666,
         "cpr_trend": "uptrend",
         "day_open": "below",
         "cpr_opportunity": "unclear",
         "_deepnote_index_column": 1
        },
        {
         "symbol": "XLMUSDT",
         "date": "2022-06-07",
         "open": 0.14438,
         "high": 0.14513,
         "low": 0.13421,
         "close": 0.13843,
         "pivot": 0.14567,
         "bc": 0.14633,
         "tc": 0.1450099999999999,
         "r1": 0.1492899999999999,
         "s1": 0.14073,
         "r2": 0.1542299999999999,
         "s2": 0.13711,
         "width": "moderate",
         "previous_high": 0.15061,
         "previous_low": 0.14205,
         "pivot_shifted": 0.1444433333333333,
         "cpr_trend": "uptrend",
         "day_open": "below",
         "cpr_opportunity": "unclear",
         "_deepnote_index_column": 2
        },
        {
         "symbol": "OMGUSDT",
         "date": "2022-06-07",
         "open": 2.548,
         "high": 2.576,
         "low": 2.401,
         "close": 2.481,
         "pivot": 2.578666666666667,
         "bc": 2.5935,
         "tc": 2.5638333333333336,
         "r1": 2.6913333333333336,
         "s1": 2.4363333333333337,
         "r2": 2.833666666666667,
         "s2": 2.323666666666667,
         "width": "moderate",
         "previous_high": 2.721,
         "previous_low": 2.466,
         "pivot_shifted": 2.4630000000000005,
         "cpr_trend": "uptrend",
         "day_open": "below",
         "cpr_opportunity": "unclear",
         "_deepnote_index_column": 3
        },
        {
         "symbol": "BALUSDT",
         "date": "2022-06-07",
         "open": 7.511,
         "high": 7.604,
         "low": 6.825,
         "close": 6.977,
         "pivot": 7.618666666666667,
         "bc": 7.6715,
         "tc": 7.565833333333334,
         "r1": 7.837333333333333,
         "s1": 7.294333333333334,
         "r2": 8.161666666666665,
         "s2": 7.075666666666668,
         "width": "moderate",
         "previous_high": 7.943,
         "previous_low": 7.4,
         "pivot_shifted": 7.314,
         "cpr_trend": "uptrend",
         "day_open": "below",
         "cpr_opportunity": "unclear",
         "_deepnote_index_column": 4
        },
        {
         "symbol": "XTZUSDT",
         "date": "2022-06-07",
         "open": 2.053,
         "high": 2.209,
         "low": 1.947,
         "close": 2.056,
         "pivot": 2.0556666666666668,
         "bc": 2.0565,
         "tc": 2.0548333333333333,
         "r1": 2.166333333333333,
         "s1": 1.9433333333333327,
         "r2": 2.2786666666666666,
         "s2": 1.8326666666666669,
         "width": "moderate",
         "previous_high": 2.168,
         "previous_low": 1.945,
         "pivot_shifted": 1.9423333333333328,
         "cpr_trend": "uptrend",
         "day_open": "below",
         "cpr_opportunity": "unclear",
         "_deepnote_index_column": 5
        },
        {
         "symbol": "ARUSDT",
         "date": "2022-06-07",
         "open": 12.882,
         "high": 13.423,
         "low": 12.243,
         "close": 13.191,
         "pivot": 13.17,
         "bc": 13.314,
         "tc": 13.026,
         "r1": 13.688,
         "s1": 12.364,
         "r2": 14.494000000000002,
         "s2": 11.845999999999998,
         "width": "moderate",
         "previous_high": 13.976,
         "previous_low": 12.652,
         "pivot_shifted": 12.720999999999998,
         "cpr_trend": "uptrend",
         "day_open": "below",
         "cpr_opportunity": "unclear",
         "_deepnote_index_column": 6
        },
        {
         "symbol": "DENTUSDT",
         "date": "2022-06-07",
         "open": 0.00129,
         "high": 0.001302,
         "low": 0.001185,
         "close": 0.001244,
         "pivot": 0.001286,
         "bc": 0.001284,
         "tc": 0.001288,
         "r1": 0.001342,
         "s1": 0.001234,
         "r2": 0.001394,
         "s2": 0.001178,
         "width": "moderate",
         "previous_high": 0.001338,
         "previous_low": 0.00123,
         "pivot_shifted": 0.0012366666666666,
         "cpr_trend": "uptrend",
         "day_open": "above",
         "cpr_opportunity": "long",
         "_deepnote_index_column": 7
        },
        {
         "symbol": "GALAUSDT",
         "date": "2022-06-07",
         "open": 0.08566,
         "high": 0.09055,
         "low": 0.0765,
         "close": 0.08021,
         "pivot": 0.0819566666666666,
         "bc": 0.0801,
         "tc": 0.0838133333333333,
         "r1": 0.0897133333333333,
         "s1": 0.0779133333333333,
         "r2": 0.0937566666666666,
         "s2": 0.0701566666666666,
         "width": "narrow",
         "previous_high": 0.086,
         "previous_low": 0.0742,
         "pivot_shifted": 0.0747233333333333,
         "cpr_trend": "uptrend",
         "day_open": "above",
         "cpr_opportunity": "long",
         "_deepnote_index_column": 8
        },
        {
         "symbol": "ONTUSDT",
         "date": "2022-06-07",
         "open": 0.3121,
         "high": 0.3144,
         "low": 0.2876,
         "close": 0.2924,
         "pivot": 0.3131666666666666,
         "bc": 0.31375,
         "tc": 0.3125833333333333,
         "r1": 0.3349333333333333,
         "s1": 0.2902333333333333,
         "r2": 0.3578666666666666,
         "s2": 0.2684666666666666,
         "width": "narrow",
         "previous_high": 0.3361,
         "previous_low": 0.2914,
         "pivot_shifted": 0.2904,
         "cpr_trend": "uptrend",
         "day_open": "below",
         "cpr_opportunity": "unclear",
         "_deepnote_index_column": 9
        },
        {
         "symbol": "ANTUSDT",
         "date": "2022-06-07",
         "open": 1.837,
         "high": 1.861,
         "low": 1.718,
         "close": 1.813,
         "pivot": 1.850666666666667,
         "bc": 1.858,
         "tc": 1.8433333333333333,
         "r1": 1.9043333333333337,
         "s1": 1.7823333333333338,
         "r2": 1.972666666666667,
         "s2": 1.7286666666666668,
         "width": "moderate",
         "previous_high": 1.919,
         "previous_low": 1.797,
         "pivot_shifted": 1.8016666666666663,
         "cpr_trend": "uptrend",
         "day_open": "below",
         "cpr_opportunity": "unclear",
         "_deepnote_index_column": 10
        },
        {
         "symbol": "BNBUSDT",
         "date": "2022-06-07",
         "open": 295.85,
         "high": 296.98,
         "low": 273.2,
         "close": 283.64,
         "pivot": 298.4266666666667,
         "bc": 299.71000000000004,
         "tc": 297.1433333333333,
         "r1": 310.05333333333334,
         "s1": 284.2333333333333,
         "r2": 324.24666666666667,
         "s2": 272.6066666666667,
         "width": "moderate",
         "previous_high": 312.62,
         "previous_low": 286.8,
         "pivot_shifted": 298.81,
         "cpr_trend": "downtrend",
         "day_open": "below",
         "cpr_opportunity": "short",
         "_deepnote_index_column": 11
        },
        {
         "symbol": "DARUSDT",
         "date": "2022-06-07",
         "open": 0.4353,
         "high": 0.4427,
         "low": 0.393,
         "close": 0.4079,
         "pivot": 0.4347333333333333,
         "bc": 0.43425,
         "tc": 0.4352166666666667,
         "r1": 0.4499666666666667,
         "s1": 0.4204666666666667,
         "r2": 0.4642333333333334,
         "s2": 0.4052333333333333,
         "width": "moderate",
         "previous_high": 0.449,
         "previous_low": 0.4195,
         "pivot_shifted": 0.4240666666666666,
         "cpr_trend": "uptrend",
         "day_open": "above",
         "cpr_opportunity": "long",
         "_deepnote_index_column": 12
        },
        {
         "symbol": "DEFIUSDT",
         "date": "2022-06-07",
         "open": 870.5,
         "high": 877.6,
         "low": 804.6,
         "close": 827.1,
         "pivot": 864.5333333333333,
         "bc": 861.55,
         "tc": 867.5166666666667,
         "r1": 909.8666666666666,
         "s1": 825.1666666666666,
         "r2": 949.2333333333332,
         "s2": 779.8333333333334,
         "width": "moderate",
         "previous_high": 903.9,
         "previous_low": 819.2,
         "pivot_shifted": 826.9,
         "cpr_trend": "uptrend",
         "day_open": "above",
         "cpr_opportunity": "long",
         "_deepnote_index_column": 13
        },
        {
         "symbol": "ATOMUSDT",
         "date": "2022-06-07",
         "open": 9.403,
         "high": 9.479,
         "low": 8.556,
         "close": 8.718,
         "pivot": 9.430666666666667,
         "bc": 9.445,
         "tc": 9.416333333333334,
         "r1": 9.720333333333334,
         "s1": 9.112333333333334,
         "r2": 10.038666666666668,
         "s2": 8.822666666666667,
         "width": "moderate",
         "previous_high": 9.749,
         "previous_low": 9.141,
         "pivot_shifted": 9.235,
         "cpr_trend": "uptrend",
         "day_open": "below",
         "cpr_opportunity": "unclear",
         "_deepnote_index_column": 14
        },
        {
         "symbol": "CRVUSDT",
         "date": "2022-06-07",
         "open": 1.281,
         "high": 1.291,
         "low": 1.157,
         "close": 1.192,
         "pivot": 1.2736666666666665,
         "bc": 1.27,
         "tc": 1.277333333333333,
         "r1": 1.341333333333333,
         "s1": 1.213333333333333,
         "r2": 1.4016666666666666,
         "s2": 1.1456666666666664,
         "width": "moderate",
         "previous_high": 1.334,
         "previous_low": 1.206,
         "pivot_shifted": 1.2033333333333334,
         "cpr_trend": "uptrend",
         "day_open": "above",
         "cpr_opportunity": "long",
         "_deepnote_index_column": 15
        },
        {
         "symbol": "RAYUSDT",
         "date": "2022-06-07",
         "open": 0.921,
         "high": 0.927,
         "low": 0.836,
         "close": 0.874,
         "pivot": 0.921,
         "bc": 0.9205,
         "tc": 0.9215,
         "r1": 0.966,
         "s1": 0.8769999999999999,
         "r2": 1.0099999999999998,
         "s2": 0.832,
         "width": "moderate",
         "previous_high": 0.965,
         "previous_low": 0.876,
         "pivot_shifted": 0.8846666666666666,
         "cpr_trend": "uptrend",
         "day_open": "Neutral",
         "cpr_opportunity": "unclear",
         "_deepnote_index_column": 16
        },
        {
         "symbol": "COTIUSDT",
         "date": "2022-06-07",
         "open": 0.12139,
         "high": 0.12295,
         "low": 0.1125,
         "close": 0.11625,
         "pivot": 0.1231666666666666,
         "bc": 0.12406,
         "tc": 0.1222733333333333,
         "r1": 0.1280133333333333,
         "s1": 0.1165333333333333,
         "r2": 0.1346466666666666,
         "s2": 0.1116866666666666,
         "width": "moderate",
         "previous_high": 0.1298,
         "previous_low": 0.11832,
         "pivot_shifted": 0.1201,
         "cpr_trend": "uptrend",
         "day_open": "below",
         "cpr_opportunity": "unclear",
         "_deepnote_index_column": 17
        },
        {
         "symbol": "ALPHAUSDT",
         "date": "2022-06-07",
         "open": 0.1533,
         "high": 0.1551,
         "low": 0.1417,
         "close": 0.1481,
         "pivot": 0.1539,
         "bc": 0.1542,
         "tc": 0.1536,
         "r1": 0.1587,
         "s1": 0.1485,
         "r2": 0.1641,
         "s2": 0.1437,
         "width": "moderate",
         "previous_high": 0.1593,
         "previous_low": 0.1491,
         "pivot_shifted": 0.1514666666666666,
         "cpr_trend": "uptrend",
         "day_open": "below",
         "cpr_opportunity": "unclear",
         "_deepnote_index_column": 18
        },
        {
         "symbol": "AXSUSDT",
         "date": "2022-06-07",
         "open": 20.46,
         "high": 20.79,
         "low": 19.01,
         "close": 19.45,
         "pivot": 21.05,
         "bc": 21.34,
         "tc": 20.76,
         "r1": 22.19,
         "s1": 19.33,
         "r2": 23.91,
         "s2": 18.19,
         "width": "moderate",
         "previous_high": 22.77,
         "previous_low": 19.91,
         "pivot_shifted": 20.113333333333333,
         "cpr_trend": "uptrend",
         "day_open": "below",
         "cpr_opportunity": "unclear",
         "_deepnote_index_column": 19
        },
        {
         "symbol": "ATAUSDT",
         "date": "2022-06-07",
         "open": 0.1565,
         "high": 0.159,
         "low": 0.1448,
         "close": 0.152,
         "pivot": 0.1571,
         "bc": 0.1573999999999999,
         "tc": 0.1568,
         "r1": 0.1634999999999999,
         "s1": 0.1500999999999999,
         "r2": 0.1704999999999999,
         "s2": 0.1437,
         "width": "moderate",
         "previous_high": 0.1641,
         "previous_low": 0.1507,
         "pivot_shifted": 0.1528,
         "cpr_trend": "uptrend",
         "day_open": "below",
         "cpr_opportunity": "unclear",
         "_deepnote_index_column": 20
        },
        {
         "symbol": "KNCUSDT",
         "date": "2022-06-07",
         "open": 1.959,
         "high": 1.975,
         "low": 1.8,
         "close": 1.85,
         "pivot": 1.969,
         "bc": 1.974,
         "tc": 1.9640000000000004,
         "r1": 2.056,
         "s1": 1.8720000000000003,
         "r2": 2.153,
         "s2": 1.7850000000000004,
         "width": "moderate",
         "previous_high": 2.066,
         "previous_low": 1.882,
         "pivot_shifted": 1.921,
         "cpr_trend": "uptrend",
         "day_open": "below",
         "cpr_opportunity": "unclear",
         "_deepnote_index_column": 21
        },
        {
         "symbol": "RENUSDT",
         "date": "2022-06-07",
         "open": 0.1489,
         "high": 0.1513,
         "low": 0.1411,
         "close": 0.1436,
         "pivot": 0.1501333333333333,
         "bc": 0.1507,
         "tc": 0.1495666666666666,
         "r1": 0.1572666666666667,
         "s1": 0.1418666666666666,
         "r2": 0.1655333333333333,
         "s2": 0.1347333333333333,
         "width": "moderate",
         "previous_high": 0.1584,
         "previous_low": 0.143,
         "pivot_shifted": 0.1444666666666666,
         "cpr_trend": "uptrend",
         "day_open": "below",
         "cpr_opportunity": "unclear",
         "_deepnote_index_column": 22
        },
        {
         "symbol": "C98USDT",
         "date": "2022-06-07",
         "open": 0.7293,
         "high": 0.7434,
         "low": 0.6742,
         "close": 0.7147,
         "pivot": 0.7063333333333334,
         "bc": 0.6950000000000001,
         "tc": 0.7176666666666667,
         "r1": 0.7805666666666667,
         "s1": 0.6547666666666667,
         "r2": 0.8321333333333334,
         "s2": 0.5805333333333333,
         "width": "moderate",
         "previous_high": 0.7579,
         "previous_low": 0.6321,
         "pivot_shifted": 0.6347999999999999,
         "cpr_trend": "uptrend",
         "day_open": "above",
         "cpr_opportunity": "long",
         "_deepnote_index_column": 23
        },
        {
         "symbol": "DASHUSDT",
         "date": "2022-06-07",
         "open": 59.62,
         "high": 60.24,
         "low": 55.93,
         "close": 58.97,
         "pivot": 59.98333333333333,
         "bc": 60.165,
         "tc": 59.801666666666655,
         "r1": 61.61666666666665,
         "s1": 57.98666666666666,
         "r2": 63.61333333333332,
         "s2": 56.35333333333333,
         "width": "moderate",
         "previous_high": 61.98,
         "previous_low": 58.35,
         "pivot_shifted": 58.580000000000005,
         "cpr_trend": "uptrend",
         "day_open": "below",
         "cpr_opportunity": "unclear",
         "_deepnote_index_column": 24
        }
       ]
      },
      "text/plain": "        symbol        date      open      high       low     close     pivot  \\\n0     REEFUSDT  2022-06-07  0.004423  0.004471  0.004099  0.004256  0.004470   \n1     IOTXUSDT  2022-06-07  0.034570  0.034910  0.031730  0.033330  0.034760   \n2      XLMUSDT  2022-06-07  0.144380  0.145130  0.134210  0.138430  0.145670   \n3      OMGUSDT  2022-06-07  2.548000  2.576000  2.401000  2.481000  2.578667   \n4      BALUSDT  2022-06-07  7.511000  7.604000  6.825000  6.977000  7.618667   \n..         ...         ...       ...       ...       ...       ...       ...   \n137   API3USDT  2022-06-07  1.541000  1.570000  1.407000  1.430000  1.549333   \n138    TLMUSDT  2022-06-07  0.036100  0.036600  0.032300  0.033100  0.036067   \n139  MATICUSDT  2022-06-07  0.628200  0.634900  0.581800  0.589800  0.626467   \n140    SNXUSDT  2022-06-07  2.719000  2.780000  2.502000  2.562000  2.738333   \n141    SFPUSDT  2022-06-07  0.405500  0.409800  0.376000  0.379500  0.407267   \n\n           bc        tc        r1        s1        r2        s2     width  \\\n0    0.004494  0.004446  0.004599  0.004294  0.004775  0.004165  moderate   \n1    0.034855  0.034665  0.035910  0.033420  0.037250  0.032270  moderate   \n2    0.146330  0.145010  0.149290  0.140730  0.154230  0.137110  moderate   \n3    2.593500  2.563833  2.691333  2.436333  2.833667  2.323667  moderate   \n4    7.671500  7.565833  7.837333  7.294333  8.161667  7.075667  moderate   \n..        ...       ...       ...       ...       ...       ...       ...   \n137  1.553500  1.545167  1.599667  1.490667  1.658333  1.440333  moderate   \n138  0.036000  0.036133  0.037233  0.035033  0.038267  0.033867  moderate   \n139  0.625600  0.627333  0.657733  0.596933  0.687267  0.565667    narrow   \n140  2.747500  2.729167  2.888667  2.569667  3.057333  2.419333  moderate   \n141  0.408100  0.406433  0.419533  0.393333  0.433467  0.381067  moderate   \n\n     previous_high  previous_low  pivot_shifted cpr_trend day_open  \\\n0         0.004646      0.004341       0.004383   uptrend    below   \n1         0.036100      0.033610       0.034217   uptrend    below   \n2         0.150610      0.142050       0.144443   uptrend    below   \n3         2.721000      2.466000       2.463000   uptrend    below   \n4         7.943000      7.400000       7.314000   uptrend    below   \n..             ...           ...            ...       ...      ...   \n137       1.608000      1.499000       1.508000   uptrend    below   \n138       0.037100      0.034900       0.035467   uptrend  Neutral   \n139       0.656000      0.595200       0.597233   uptrend    above   \n140       2.907000      2.588000       2.645667   uptrend    below   \n141       0.421200      0.395000       0.398267   uptrend    below   \n\n    cpr_opportunity  \n0           unclear  \n1           unclear  \n2           unclear  \n3           unclear  \n4           unclear  \n..              ...  \n137         unclear  \n138         unclear  \n139            long  \n140         unclear  \n141         unclear  \n\n[142 rows x 20 columns]",
      "text/html": "<div>\n<style scoped>\n    .dataframe tbody tr th:only-of-type {\n        vertical-align: middle;\n    }\n\n    .dataframe tbody tr th {\n        vertical-align: top;\n    }\n\n    .dataframe thead th {\n        text-align: right;\n    }\n</style>\n<table border=\"1\" class=\"dataframe\">\n  <thead>\n    <tr style=\"text-align: right;\">\n      <th></th>\n      <th>symbol</th>\n      <th>date</th>\n      <th>open</th>\n      <th>high</th>\n      <th>low</th>\n      <th>close</th>\n      <th>pivot</th>\n      <th>bc</th>\n      <th>tc</th>\n      <th>r1</th>\n      <th>s1</th>\n      <th>r2</th>\n      <th>s2</th>\n      <th>width</th>\n      <th>previous_high</th>\n      <th>previous_low</th>\n      <th>pivot_shifted</th>\n      <th>cpr_trend</th>\n      <th>day_open</th>\n      <th>cpr_opportunity</th>\n    </tr>\n  </thead>\n  <tbody>\n    <tr>\n      <th>0</th>\n      <td>REEFUSDT</td>\n      <td>2022-06-07</td>\n      <td>0.004423</td>\n      <td>0.004471</td>\n      <td>0.004099</td>\n      <td>0.004256</td>\n      <td>0.004470</td>\n      <td>0.004494</td>\n      <td>0.004446</td>\n      <td>0.004599</td>\n      <td>0.004294</td>\n      <td>0.004775</td>\n      <td>0.004165</td>\n      <td>moderate</td>\n      <td>0.004646</td>\n      <td>0.004341</td>\n      <td>0.004383</td>\n      <td>uptrend</td>\n      <td>below</td>\n      <td>unclear</td>\n    </tr>\n    <tr>\n      <th>1</th>\n      <td>IOTXUSDT</td>\n      <td>2022-06-07</td>\n      <td>0.034570</td>\n      <td>0.034910</td>\n      <td>0.031730</td>\n      <td>0.033330</td>\n      <td>0.034760</td>\n      <td>0.034855</td>\n      <td>0.034665</td>\n      <td>0.035910</td>\n      <td>0.033420</td>\n      <td>0.037250</td>\n      <td>0.032270</td>\n      <td>moderate</td>\n      <td>0.036100</td>\n      <td>0.033610</td>\n      <td>0.034217</td>\n      <td>uptrend</td>\n      <td>below</td>\n      <td>unclear</td>\n    </tr>\n    <tr>\n      <th>2</th>\n      <td>XLMUSDT</td>\n      <td>2022-06-07</td>\n      <td>0.144380</td>\n      <td>0.145130</td>\n      <td>0.134210</td>\n      <td>0.138430</td>\n      <td>0.145670</td>\n      <td>0.146330</td>\n      <td>0.145010</td>\n      <td>0.149290</td>\n      <td>0.140730</td>\n      <td>0.154230</td>\n      <td>0.137110</td>\n      <td>moderate</td>\n      <td>0.150610</td>\n      <td>0.142050</td>\n      <td>0.144443</td>\n      <td>uptrend</td>\n      <td>below</td>\n      <td>unclear</td>\n    </tr>\n    <tr>\n      <th>3</th>\n      <td>OMGUSDT</td>\n      <td>2022-06-07</td>\n      <td>2.548000</td>\n      <td>2.576000</td>\n      <td>2.401000</td>\n      <td>2.481000</td>\n      <td>2.578667</td>\n      <td>2.593500</td>\n      <td>2.563833</td>\n      <td>2.691333</td>\n      <td>2.436333</td>\n      <td>2.833667</td>\n      <td>2.323667</td>\n      <td>moderate</td>\n      <td>2.721000</td>\n      <td>2.466000</td>\n      <td>2.463000</td>\n      <td>uptrend</td>\n      <td>below</td>\n      <td>unclear</td>\n    </tr>\n    <tr>\n      <th>4</th>\n      <td>BALUSDT</td>\n      <td>2022-06-07</td>\n      <td>7.511000</td>\n      <td>7.604000</td>\n      <td>6.825000</td>\n      <td>6.977000</td>\n      <td>7.618667</td>\n      <td>7.671500</td>\n      <td>7.565833</td>\n      <td>7.837333</td>\n      <td>7.294333</td>\n      <td>8.161667</td>\n      <td>7.075667</td>\n      <td>moderate</td>\n      <td>7.943000</td>\n      <td>7.400000</td>\n      <td>7.314000</td>\n      <td>uptrend</td>\n      <td>below</td>\n      <td>unclear</td>\n    </tr>\n    <tr>\n      <th>...</th>\n      <td>...</td>\n      <td>...</td>\n      <td>...</td>\n      <td>...</td>\n      <td>...</td>\n      <td>...</td>\n      <td>...</td>\n      <td>...</td>\n      <td>...</td>\n      <td>...</td>\n      <td>...</td>\n      <td>...</td>\n      <td>...</td>\n      <td>...</td>\n      <td>...</td>\n      <td>...</td>\n      <td>...</td>\n      <td>...</td>\n      <td>...</td>\n      <td>...</td>\n    </tr>\n    <tr>\n      <th>137</th>\n      <td>API3USDT</td>\n      <td>2022-06-07</td>\n      <td>1.541000</td>\n      <td>1.570000</td>\n      <td>1.407000</td>\n      <td>1.430000</td>\n      <td>1.549333</td>\n      <td>1.553500</td>\n      <td>1.545167</td>\n      <td>1.599667</td>\n      <td>1.490667</td>\n      <td>1.658333</td>\n      <td>1.440333</td>\n      <td>moderate</td>\n      <td>1.608000</td>\n      <td>1.499000</td>\n      <td>1.508000</td>\n      <td>uptrend</td>\n      <td>below</td>\n      <td>unclear</td>\n    </tr>\n    <tr>\n      <th>138</th>\n      <td>TLMUSDT</td>\n      <td>2022-06-07</td>\n      <td>0.036100</td>\n      <td>0.036600</td>\n      <td>0.032300</td>\n      <td>0.033100</td>\n      <td>0.036067</td>\n      <td>0.036000</td>\n      <td>0.036133</td>\n      <td>0.037233</td>\n      <td>0.035033</td>\n      <td>0.038267</td>\n      <td>0.033867</td>\n      <td>moderate</td>\n      <td>0.037100</td>\n      <td>0.034900</td>\n      <td>0.035467</td>\n      <td>uptrend</td>\n      <td>Neutral</td>\n      <td>unclear</td>\n    </tr>\n    <tr>\n      <th>139</th>\n      <td>MATICUSDT</td>\n      <td>2022-06-07</td>\n      <td>0.628200</td>\n      <td>0.634900</td>\n      <td>0.581800</td>\n      <td>0.589800</td>\n      <td>0.626467</td>\n      <td>0.625600</td>\n      <td>0.627333</td>\n      <td>0.657733</td>\n      <td>0.596933</td>\n      <td>0.687267</td>\n      <td>0.565667</td>\n      <td>narrow</td>\n      <td>0.656000</td>\n      <td>0.595200</td>\n      <td>0.597233</td>\n      <td>uptrend</td>\n      <td>above</td>\n      <td>long</td>\n    </tr>\n    <tr>\n      <th>140</th>\n      <td>SNXUSDT</td>\n      <td>2022-06-07</td>\n      <td>2.719000</td>\n      <td>2.780000</td>\n      <td>2.502000</td>\n      <td>2.562000</td>\n      <td>2.738333</td>\n      <td>2.747500</td>\n      <td>2.729167</td>\n      <td>2.888667</td>\n      <td>2.569667</td>\n      <td>3.057333</td>\n      <td>2.419333</td>\n      <td>moderate</td>\n      <td>2.907000</td>\n      <td>2.588000</td>\n      <td>2.645667</td>\n      <td>uptrend</td>\n      <td>below</td>\n      <td>unclear</td>\n    </tr>\n    <tr>\n      <th>141</th>\n      <td>SFPUSDT</td>\n      <td>2022-06-07</td>\n      <td>0.405500</td>\n      <td>0.409800</td>\n      <td>0.376000</td>\n      <td>0.379500</td>\n      <td>0.407267</td>\n      <td>0.408100</td>\n      <td>0.406433</td>\n      <td>0.419533</td>\n      <td>0.393333</td>\n      <td>0.433467</td>\n      <td>0.381067</td>\n      <td>moderate</td>\n      <td>0.421200</td>\n      <td>0.395000</td>\n      <td>0.398267</td>\n      <td>uptrend</td>\n      <td>below</td>\n      <td>unclear</td>\n    </tr>\n  </tbody>\n</table>\n<p>142 rows × 20 columns</p>\n</div>"
     },
     "metadata": {}
    }
   ]
  },
  {
   "cell_type": "code",
   "metadata": {
    "cell_id": "d8eccb12e4e44f58941ec0f72c7090ad",
    "tags": [],
    "deepnote_to_be_reexecuted": false,
    "source_hash": "670adb38",
    "execution_start": 1654623160373,
    "execution_millis": 96,
    "deepnote_table_state": {
     "pageSize": 10,
     "pageIndex": 0,
     "filters": [],
     "sortBy": []
    },
    "deepnote_table_loading": false,
    "deepnote_cell_type": "code",
    "deepnote_cell_height": 611.796875
   },
   "source": "pd.read_csv('CPR/CPR.csv')",
   "execution_count": null,
   "outputs": [
    {
     "output_type": "execute_result",
     "execution_count": 8,
     "data": {
      "application/vnd.deepnote.dataframe.v3+json": {
       "column_count": 20,
       "row_count": 142,
       "columns": [
        {
         "name": "symbol",
         "dtype": "object",
         "stats": {
          "unique_count": 142,
          "nan_count": 0,
          "categories": [
           {
            "name": "REEFUSDT",
            "count": 1
           },
           {
            "name": "IOTXUSDT",
            "count": 1
           },
           {
            "name": "140 others",
            "count": 140
           }
          ]
         }
        },
        {
         "name": "date",
         "dtype": "object",
         "stats": {
          "unique_count": 1,
          "nan_count": 0,
          "categories": [
           {
            "name": "2022-06-07",
            "count": 142
           }
          ]
         }
        },
        {
         "name": "open",
         "dtype": "float64",
         "stats": {
          "unique_count": 142,
          "nan_count": 0,
          "min": "0.00129",
          "max": "31392.8",
          "histogram": [
           {
            "bin_start": 0.00129,
            "bin_end": 3139.281161,
            "count": 140
           },
           {
            "bin_start": 3139.281161,
            "bin_end": 6278.561032,
            "count": 0
           },
           {
            "bin_start": 6278.561032,
            "bin_end": 9417.840903,
            "count": 1
           },
           {
            "bin_start": 9417.840903,
            "bin_end": 12557.120773999999,
            "count": 0
           },
           {
            "bin_start": 12557.120773999999,
            "bin_end": 15696.400644999998,
            "count": 0
           },
           {
            "bin_start": 15696.400644999998,
            "bin_end": 18835.680516,
            "count": 0
           },
           {
            "bin_start": 18835.680516,
            "bin_end": 21974.960387,
            "count": 0
           },
           {
            "bin_start": 21974.960387,
            "bin_end": 25114.240257999998,
            "count": 0
           },
           {
            "bin_start": 25114.240257999998,
            "bin_end": 28253.520128999997,
            "count": 0
           },
           {
            "bin_start": 28253.520128999997,
            "bin_end": 31392.8,
            "count": 1
           }
          ]
         }
        },
        {
         "name": "high",
         "dtype": "float64",
         "stats": {
          "unique_count": 142,
          "nan_count": 0,
          "min": "0.001302",
          "max": "31423.1",
          "histogram": [
           {
            "bin_start": 0.001302,
            "bin_end": 3142.3111718,
            "count": 140
           },
           {
            "bin_start": 3142.3111718,
            "bin_end": 6284.621041599999,
            "count": 0
           },
           {
            "bin_start": 6284.621041599999,
            "bin_end": 9426.9309114,
            "count": 1
           },
           {
            "bin_start": 9426.9309114,
            "bin_end": 12569.2407812,
            "count": 0
           },
           {
            "bin_start": 12569.2407812,
            "bin_end": 15711.550651,
            "count": 0
           },
           {
            "bin_start": 15711.550651,
            "bin_end": 18853.8605208,
            "count": 0
           },
           {
            "bin_start": 18853.8605208,
            "bin_end": 21996.1703906,
            "count": 0
           },
           {
            "bin_start": 21996.1703906,
            "bin_end": 25138.4802604,
            "count": 0
           },
           {
            "bin_start": 25138.4802604,
            "bin_end": 28280.7901302,
            "count": 0
           },
           {
            "bin_start": 28280.7901302,
            "bin_end": 31423.1,
            "count": 1
           }
          ]
         }
        },
        {
         "name": "low",
         "dtype": "float64",
         "stats": {
          "unique_count": 141,
          "nan_count": 0,
          "min": "0.001185",
          "max": "29190.0",
          "histogram": [
           {
            "bin_start": 0.001185,
            "bin_end": 2919.0010665,
            "count": 140
           },
           {
            "bin_start": 2919.0010665,
            "bin_end": 5838.000948,
            "count": 0
           },
           {
            "bin_start": 5838.000948,
            "bin_end": 8757.000829499999,
            "count": 1
           },
           {
            "bin_start": 8757.000829499999,
            "bin_end": 11676.000710999999,
            "count": 0
           },
           {
            "bin_start": 11676.000710999999,
            "bin_end": 14595.000592499999,
            "count": 0
           },
           {
            "bin_start": 14595.000592499999,
            "bin_end": 17514.000474,
            "count": 0
           },
           {
            "bin_start": 17514.000474,
            "bin_end": 20433.0003555,
            "count": 0
           },
           {
            "bin_start": 20433.0003555,
            "bin_end": 23352.000237,
            "count": 0
           },
           {
            "bin_start": 23352.000237,
            "bin_end": 26271.0001185,
            "count": 0
           },
           {
            "bin_start": 26271.0001185,
            "bin_end": 29190,
            "count": 1
           }
          ]
         }
        },
        {
         "name": "close",
         "dtype": "float64",
         "stats": {
          "unique_count": 142,
          "nan_count": 0,
          "min": "0.001244",
          "max": "29869.2",
          "histogram": [
           {
            "bin_start": 0.001244,
            "bin_end": 2986.9211196,
            "count": 140
           },
           {
            "bin_start": 2986.9211196,
            "bin_end": 5973.8409952,
            "count": 0
           },
           {
            "bin_start": 5973.8409952,
            "bin_end": 8960.760870799999,
            "count": 1
           },
           {
            "bin_start": 8960.760870799999,
            "bin_end": 11947.6807464,
            "count": 0
           },
           {
            "bin_start": 11947.6807464,
            "bin_end": 14934.600622,
            "count": 0
           },
           {
            "bin_start": 14934.600622,
            "bin_end": 17921.5204976,
            "count": 0
           },
           {
            "bin_start": 17921.5204976,
            "bin_end": 20908.4403732,
            "count": 0
           },
           {
            "bin_start": 20908.4403732,
            "bin_end": 23895.3602488,
            "count": 0
           },
           {
            "bin_start": 23895.3602488,
            "bin_end": 26882.2801244,
            "count": 0
           },
           {
            "bin_start": 26882.2801244,
            "bin_end": 29869.2,
            "count": 1
           }
          ]
         }
        },
        {
         "name": "pivot",
         "dtype": "float64",
         "stats": {
          "unique_count": 142,
          "nan_count": 0,
          "min": "0.001286",
          "max": "31016.3",
          "histogram": [
           {
            "bin_start": 0.001286,
            "bin_end": 3101.6311574,
            "count": 140
           },
           {
            "bin_start": 3101.6311574,
            "bin_end": 6203.2610288,
            "count": 0
           },
           {
            "bin_start": 6203.2610288,
            "bin_end": 9304.8909002,
            "count": 1
           },
           {
            "bin_start": 9304.8909002,
            "bin_end": 12406.5207716,
            "count": 0
           },
           {
            "bin_start": 12406.5207716,
            "bin_end": 15508.150643,
            "count": 0
           },
           {
            "bin_start": 15508.150643,
            "bin_end": 18609.780514399998,
            "count": 0
           },
           {
            "bin_start": 18609.780514399998,
            "bin_end": 21711.410385799998,
            "count": 0
           },
           {
            "bin_start": 21711.410385799998,
            "bin_end": 24813.0402572,
            "count": 0
           },
           {
            "bin_start": 24813.0402572,
            "bin_end": 27914.6701286,
            "count": 0
           },
           {
            "bin_start": 27914.6701286,
            "bin_end": 31016.3,
            "count": 1
           }
          ]
         }
        },
        {
         "name": "bc",
         "dtype": "float64",
         "stats": {
          "unique_count": 142,
          "nan_count": 0,
          "min": "0.001284",
          "max": "30828.1",
          "histogram": [
           {
            "bin_start": 0.001284,
            "bin_end": 3082.8111555999994,
            "count": 140
           },
           {
            "bin_start": 3082.8111555999994,
            "bin_end": 6165.621027199999,
            "count": 0
           },
           {
            "bin_start": 6165.621027199999,
            "bin_end": 9248.4308988,
            "count": 1
           },
           {
            "bin_start": 9248.4308988,
            "bin_end": 12331.240770399998,
            "count": 0
           },
           {
            "bin_start": 12331.240770399998,
            "bin_end": 15414.050641999997,
            "count": 0
           },
           {
            "bin_start": 15414.050641999997,
            "bin_end": 18496.8605136,
            "count": 0
           },
           {
            "bin_start": 18496.8605136,
            "bin_end": 21579.6703852,
            "count": 0
           },
           {
            "bin_start": 21579.6703852,
            "bin_end": 24662.480256799998,
            "count": 0
           },
           {
            "bin_start": 24662.480256799998,
            "bin_end": 27745.290128399996,
            "count": 0
           },
           {
            "bin_start": 27745.290128399996,
            "bin_end": 30828.1,
            "count": 1
           }
          ]
         }
        },
        {
         "name": "tc",
         "dtype": "float64",
         "stats": {
          "unique_count": 142,
          "nan_count": 0,
          "min": "0.001288",
          "max": "31204.5",
          "histogram": [
           {
            "bin_start": 0.001288,
            "bin_end": 3120.4511592,
            "count": 140
           },
           {
            "bin_start": 3120.4511592,
            "bin_end": 6240.9010304,
            "count": 0
           },
           {
            "bin_start": 6240.9010304,
            "bin_end": 9361.350901599999,
            "count": 1
           },
           {
            "bin_start": 9361.350901599999,
            "bin_end": 12481.8007728,
            "count": 0
           },
           {
            "bin_start": 12481.8007728,
            "bin_end": 15602.250644,
            "count": 0
           },
           {
            "bin_start": 15602.250644,
            "bin_end": 18722.7005152,
            "count": 0
           },
           {
            "bin_start": 18722.7005152,
            "bin_end": 21843.1503864,
            "count": 0
           },
           {
            "bin_start": 21843.1503864,
            "bin_end": 24963.6002576,
            "count": 0
           },
           {
            "bin_start": 24963.6002576,
            "bin_end": 28084.050128799998,
            "count": 0
           },
           {
            "bin_start": 28084.050128799998,
            "bin_end": 31204.5,
            "count": 1
           }
          ]
         }
        },
        {
         "name": "r1",
         "dtype": "float64",
         "stats": {
          "unique_count": 142,
          "nan_count": 0,
          "min": "0.001342",
          "max": "32156.4",
          "histogram": [
           {
            "bin_start": 0.001342,
            "bin_end": 3215.6412078000003,
            "count": 140
           },
           {
            "bin_start": 3215.6412078000003,
            "bin_end": 6431.2810736,
            "count": 0
           },
           {
            "bin_start": 6431.2810736,
            "bin_end": 9646.9209394,
            "count": 1
           },
           {
            "bin_start": 9646.9209394,
            "bin_end": 12862.5608052,
            "count": 0
           },
           {
            "bin_start": 12862.5608052,
            "bin_end": 16078.200671,
            "count": 0
           },
           {
            "bin_start": 16078.200671,
            "bin_end": 19293.840536800002,
            "count": 0
           },
           {
            "bin_start": 19293.840536800002,
            "bin_end": 22509.480402600002,
            "count": 0
           },
           {
            "bin_start": 22509.480402600002,
            "bin_end": 25725.1202684,
            "count": 0
           },
           {
            "bin_start": 25725.1202684,
            "bin_end": 28940.7601342,
            "count": 0
           },
           {
            "bin_start": 28940.7601342,
            "bin_end": 32156.4,
            "count": 1
           }
          ]
         }
        },
        {
         "name": "s1",
         "dtype": "float64",
         "stats": {
          "unique_count": 142,
          "nan_count": 0,
          "min": "0.001234",
          "max": "30252.6",
          "histogram": [
           {
            "bin_start": 0.001234,
            "bin_end": 3025.2611106,
            "count": 140
           },
           {
            "bin_start": 3025.2611106,
            "bin_end": 6050.5209872000005,
            "count": 0
           },
           {
            "bin_start": 6050.5209872000005,
            "bin_end": 9075.780863799999,
            "count": 1
           },
           {
            "bin_start": 9075.780863799999,
            "bin_end": 12101.0407404,
            "count": 0
           },
           {
            "bin_start": 12101.0407404,
            "bin_end": 15126.300617,
            "count": 0
           },
           {
            "bin_start": 15126.300617,
            "bin_end": 18151.560493599998,
            "count": 0
           },
           {
            "bin_start": 18151.560493599998,
            "bin_end": 21176.8203702,
            "count": 0
           },
           {
            "bin_start": 21176.8203702,
            "bin_end": 24202.0802468,
            "count": 0
           },
           {
            "bin_start": 24202.0802468,
            "bin_end": 27227.3401234,
            "count": 0
           },
           {
            "bin_start": 27227.3401234,
            "bin_end": 30252.6,
            "count": 1
           }
          ]
         }
        },
        {
         "name": "r2",
         "dtype": "float64",
         "stats": {
          "unique_count": 142,
          "nan_count": 0,
          "min": "0.001394",
          "max": "32920.1",
          "histogram": [
           {
            "bin_start": 0.001394,
            "bin_end": 3292.0112546,
            "count": 140
           },
           {
            "bin_start": 3292.0112546,
            "bin_end": 6584.0211152,
            "count": 0
           },
           {
            "bin_start": 6584.0211152,
            "bin_end": 9876.030975800002,
            "count": 1
           },
           {
            "bin_start": 9876.030975800002,
            "bin_end": 13168.040836400001,
            "count": 0
           },
           {
            "bin_start": 13168.040836400001,
            "bin_end": 16460.050697,
            "count": 0
           },
           {
            "bin_start": 16460.050697,
            "bin_end": 19752.0605576,
            "count": 0
           },
           {
            "bin_start": 19752.0605576,
            "bin_end": 23044.0704182,
            "count": 0
           },
           {
            "bin_start": 23044.0704182,
            "bin_end": 26336.0802788,
            "count": 0
           },
           {
            "bin_start": 26336.0802788,
            "bin_end": 29628.0901394,
            "count": 0
           },
           {
            "bin_start": 29628.0901394,
            "bin_end": 32920.1,
            "count": 1
           }
          ]
         }
        },
        {
         "name": "s2",
         "dtype": "float64",
         "stats": {
          "unique_count": 141,
          "nan_count": 0,
          "min": "0.001178",
          "max": "29112.5",
          "histogram": [
           {
            "bin_start": 0.001178,
            "bin_end": 2911.2510602,
            "count": 140
           },
           {
            "bin_start": 2911.2510602,
            "bin_end": 5822.500942400001,
            "count": 0
           },
           {
            "bin_start": 5822.500942400001,
            "bin_end": 8733.750824600002,
            "count": 1
           },
           {
            "bin_start": 8733.750824600002,
            "bin_end": 11645.000706800001,
            "count": 0
           },
           {
            "bin_start": 11645.000706800001,
            "bin_end": 14556.250589000001,
            "count": 0
           },
           {
            "bin_start": 14556.250589000001,
            "bin_end": 17467.5004712,
            "count": 0
           },
           {
            "bin_start": 17467.5004712,
            "bin_end": 20378.7503534,
            "count": 0
           },
           {
            "bin_start": 20378.7503534,
            "bin_end": 23290.0002356,
            "count": 0
           },
           {
            "bin_start": 23290.0002356,
            "bin_end": 26201.250117800002,
            "count": 0
           },
           {
            "bin_start": 26201.250117800002,
            "bin_end": 29112.5,
            "count": 1
           }
          ]
         }
        },
        {
         "name": "width",
         "dtype": "object",
         "stats": {
          "unique_count": 3,
          "nan_count": 0,
          "categories": [
           {
            "name": "moderate",
            "count": 123
           },
           {
            "name": "narrow",
            "count": 16
           },
           {
            "name": "wide",
            "count": 3
           }
          ]
         }
        },
        {
         "name": "previous_high",
         "dtype": "float64",
         "stats": {
          "unique_count": 141,
          "nan_count": 0,
          "min": "0.001338",
          "max": "31780.0",
          "histogram": [
           {
            "bin_start": 0.001338,
            "bin_end": 3178.0012042000003,
            "count": 140
           },
           {
            "bin_start": 3178.0012042000003,
            "bin_end": 6356.001070400001,
            "count": 0
           },
           {
            "bin_start": 6356.001070400001,
            "bin_end": 9534.000936600001,
            "count": 1
           },
           {
            "bin_start": 9534.000936600001,
            "bin_end": 12712.000802800001,
            "count": 0
           },
           {
            "bin_start": 12712.000802800001,
            "bin_end": 15890.000669000001,
            "count": 0
           },
           {
            "bin_start": 15890.000669000001,
            "bin_end": 19068.0005352,
            "count": 0
           },
           {
            "bin_start": 19068.0005352,
            "bin_end": 22246.0004014,
            "count": 0
           },
           {
            "bin_start": 22246.0004014,
            "bin_end": 25424.0002676,
            "count": 0
           },
           {
            "bin_start": 25424.0002676,
            "bin_end": 28602.0001338,
            "count": 0
           },
           {
            "bin_start": 28602.0001338,
            "bin_end": 31780,
            "count": 1
           }
          ]
         }
        },
        {
         "name": "previous_low",
         "dtype": "float64",
         "stats": {
          "unique_count": 142,
          "nan_count": 0,
          "min": "0.00123",
          "max": "29876.2",
          "histogram": [
           {
            "bin_start": 0.00123,
            "bin_end": 2987.621107,
            "count": 140
           },
           {
            "bin_start": 2987.621107,
            "bin_end": 5975.240984,
            "count": 0
           },
           {
            "bin_start": 5975.240984,
            "bin_end": 8962.860861,
            "count": 1
           },
           {
            "bin_start": 8962.860861,
            "bin_end": 11950.480738,
            "count": 0
           },
           {
            "bin_start": 11950.480738,
            "bin_end": 14938.100615000001,
            "count": 0
           },
           {
            "bin_start": 14938.100615000001,
            "bin_end": 17925.720492,
            "count": 0
           },
           {
            "bin_start": 17925.720492,
            "bin_end": 20913.340369,
            "count": 0
           },
           {
            "bin_start": 20913.340369,
            "bin_end": 23900.960246000002,
            "count": 0
           },
           {
            "bin_start": 23900.960246000002,
            "bin_end": 26888.580123000003,
            "count": 0
           },
           {
            "bin_start": 26888.580123000003,
            "bin_end": 29876.2,
            "count": 1
           }
          ]
         }
        },
        {
         "name": "pivot_shifted",
         "dtype": "float64",
         "stats": {
          "unique_count": 142,
          "nan_count": 0,
          "min": "0.0012366666666666",
          "max": "29926.4",
          "histogram": [
           {
            "bin_start": 0.0012366666666666,
            "bin_end": 2992.641113,
            "count": 140
           },
           {
            "bin_start": 2992.641113,
            "bin_end": 5985.280989333334,
            "count": 0
           },
           {
            "bin_start": 5985.280989333334,
            "bin_end": 8977.920865666667,
            "count": 1
           },
           {
            "bin_start": 8977.920865666667,
            "bin_end": 11970.560742000001,
            "count": 0
           },
           {
            "bin_start": 11970.560742000001,
            "bin_end": 14963.200618333336,
            "count": 0
           },
           {
            "bin_start": 14963.200618333336,
            "bin_end": 17955.840494666667,
            "count": 0
           },
           {
            "bin_start": 17955.840494666667,
            "bin_end": 20948.480371,
            "count": 0
           },
           {
            "bin_start": 20948.480371,
            "bin_end": 23941.120247333336,
            "count": 0
           },
           {
            "bin_start": 23941.120247333336,
            "bin_end": 26933.76012366667,
            "count": 0
           },
           {
            "bin_start": 26933.76012366667,
            "bin_end": 29926.4,
            "count": 1
           }
          ]
         }
        },
        {
         "name": "cpr_trend",
         "dtype": "object",
         "stats": {
          "unique_count": 2,
          "nan_count": 0,
          "categories": [
           {
            "name": "uptrend",
            "count": 138
           },
           {
            "name": "downtrend",
            "count": 4
           }
          ]
         }
        },
        {
         "name": "day_open",
         "dtype": "object",
         "stats": {
          "unique_count": 3,
          "nan_count": 0,
          "categories": [
           {
            "name": "below",
            "count": 95
           },
           {
            "name": "above",
            "count": 44
           },
           {
            "name": "Neutral",
            "count": 3
           }
          ]
         }
        },
        {
         "name": "cpr_opportunity",
         "dtype": "object",
         "stats": {
          "unique_count": 3,
          "nan_count": 0,
          "categories": [
           {
            "name": "unclear",
            "count": 94
           },
           {
            "name": "long",
            "count": 44
           },
           {
            "name": "short",
            "count": 4
           }
          ]
         }
        },
        {
         "name": "_deepnote_index_column",
         "dtype": "int64"
        }
       ],
       "rows": [
        {
         "symbol": "REEFUSDT",
         "date": "2022-06-07",
         "open": 0.004423,
         "high": 0.004471,
         "low": 0.004099,
         "close": 0.004256,
         "pivot": 0.00447,
         "bc": 0.0044935,
         "tc": 0.0044465,
         "r1": 0.004599,
         "s1": 0.004294,
         "r2": 0.004775,
         "s2": 0.004165,
         "width": "moderate",
         "previous_high": 0.004646,
         "previous_low": 0.004341,
         "pivot_shifted": 0.004383,
         "cpr_trend": "uptrend",
         "day_open": "below",
         "cpr_opportunity": "unclear",
         "_deepnote_index_column": 0
        },
        {
         "symbol": "IOTXUSDT",
         "date": "2022-06-07",
         "open": 0.03457,
         "high": 0.03491,
         "low": 0.03173,
         "close": 0.03333,
         "pivot": 0.0347599999999999,
         "bc": 0.034855,
         "tc": 0.0346649999999999,
         "r1": 0.0359099999999999,
         "s1": 0.0334199999999999,
         "r2": 0.0372499999999999,
         "s2": 0.0322699999999999,
         "width": "moderate",
         "previous_high": 0.0361,
         "previous_low": 0.03361,
         "pivot_shifted": 0.0342166666666666,
         "cpr_trend": "uptrend",
         "day_open": "below",
         "cpr_opportunity": "unclear",
         "_deepnote_index_column": 1
        },
        {
         "symbol": "XLMUSDT",
         "date": "2022-06-07",
         "open": 0.14438,
         "high": 0.14513,
         "low": 0.13421,
         "close": 0.13843,
         "pivot": 0.14567,
         "bc": 0.14633,
         "tc": 0.1450099999999999,
         "r1": 0.1492899999999999,
         "s1": 0.14073,
         "r2": 0.1542299999999999,
         "s2": 0.13711,
         "width": "moderate",
         "previous_high": 0.15061,
         "previous_low": 0.14205,
         "pivot_shifted": 0.1444433333333333,
         "cpr_trend": "uptrend",
         "day_open": "below",
         "cpr_opportunity": "unclear",
         "_deepnote_index_column": 2
        },
        {
         "symbol": "OMGUSDT",
         "date": "2022-06-07",
         "open": 2.548,
         "high": 2.576,
         "low": 2.401,
         "close": 2.481,
         "pivot": 2.578666666666667,
         "bc": 2.5935,
         "tc": 2.5638333333333336,
         "r1": 2.6913333333333336,
         "s1": 2.4363333333333337,
         "r2": 2.833666666666667,
         "s2": 2.323666666666667,
         "width": "moderate",
         "previous_high": 2.721,
         "previous_low": 2.466,
         "pivot_shifted": 2.4630000000000005,
         "cpr_trend": "uptrend",
         "day_open": "below",
         "cpr_opportunity": "unclear",
         "_deepnote_index_column": 3
        },
        {
         "symbol": "BALUSDT",
         "date": "2022-06-07",
         "open": 7.511,
         "high": 7.604,
         "low": 6.825,
         "close": 6.977,
         "pivot": 7.618666666666667,
         "bc": 7.6715,
         "tc": 7.565833333333334,
         "r1": 7.837333333333333,
         "s1": 7.294333333333334,
         "r2": 8.161666666666665,
         "s2": 7.075666666666668,
         "width": "moderate",
         "previous_high": 7.943,
         "previous_low": 7.4,
         "pivot_shifted": 7.314,
         "cpr_trend": "uptrend",
         "day_open": "below",
         "cpr_opportunity": "unclear",
         "_deepnote_index_column": 4
        },
        {
         "symbol": "XTZUSDT",
         "date": "2022-06-07",
         "open": 2.053,
         "high": 2.209,
         "low": 1.947,
         "close": 2.056,
         "pivot": 2.0556666666666668,
         "bc": 2.0565,
         "tc": 2.0548333333333333,
         "r1": 2.166333333333333,
         "s1": 1.9433333333333327,
         "r2": 2.2786666666666666,
         "s2": 1.8326666666666669,
         "width": "moderate",
         "previous_high": 2.168,
         "previous_low": 1.945,
         "pivot_shifted": 1.9423333333333328,
         "cpr_trend": "uptrend",
         "day_open": "below",
         "cpr_opportunity": "unclear",
         "_deepnote_index_column": 5
        },
        {
         "symbol": "ARUSDT",
         "date": "2022-06-07",
         "open": 12.882,
         "high": 13.423,
         "low": 12.243,
         "close": 13.191,
         "pivot": 13.17,
         "bc": 13.314,
         "tc": 13.026,
         "r1": 13.688,
         "s1": 12.364,
         "r2": 14.494000000000002,
         "s2": 11.845999999999998,
         "width": "moderate",
         "previous_high": 13.976,
         "previous_low": 12.652,
         "pivot_shifted": 12.720999999999998,
         "cpr_trend": "uptrend",
         "day_open": "below",
         "cpr_opportunity": "unclear",
         "_deepnote_index_column": 6
        },
        {
         "symbol": "DENTUSDT",
         "date": "2022-06-07",
         "open": 0.00129,
         "high": 0.001302,
         "low": 0.001185,
         "close": 0.001244,
         "pivot": 0.001286,
         "bc": 0.001284,
         "tc": 0.001288,
         "r1": 0.001342,
         "s1": 0.001234,
         "r2": 0.001394,
         "s2": 0.001178,
         "width": "moderate",
         "previous_high": 0.001338,
         "previous_low": 0.00123,
         "pivot_shifted": 0.0012366666666666,
         "cpr_trend": "uptrend",
         "day_open": "above",
         "cpr_opportunity": "long",
         "_deepnote_index_column": 7
        },
        {
         "symbol": "GALAUSDT",
         "date": "2022-06-07",
         "open": 0.08566,
         "high": 0.09055,
         "low": 0.0765,
         "close": 0.08021,
         "pivot": 0.0819566666666666,
         "bc": 0.0801,
         "tc": 0.0838133333333333,
         "r1": 0.0897133333333333,
         "s1": 0.0779133333333333,
         "r2": 0.0937566666666666,
         "s2": 0.0701566666666666,
         "width": "narrow",
         "previous_high": 0.086,
         "previous_low": 0.0742,
         "pivot_shifted": 0.0747233333333333,
         "cpr_trend": "uptrend",
         "day_open": "above",
         "cpr_opportunity": "long",
         "_deepnote_index_column": 8
        },
        {
         "symbol": "ONTUSDT",
         "date": "2022-06-07",
         "open": 0.3121,
         "high": 0.3144,
         "low": 0.2876,
         "close": 0.2924,
         "pivot": 0.3131666666666666,
         "bc": 0.31375,
         "tc": 0.3125833333333333,
         "r1": 0.3349333333333333,
         "s1": 0.2902333333333333,
         "r2": 0.3578666666666666,
         "s2": 0.2684666666666666,
         "width": "narrow",
         "previous_high": 0.3361,
         "previous_low": 0.2914,
         "pivot_shifted": 0.2904,
         "cpr_trend": "uptrend",
         "day_open": "below",
         "cpr_opportunity": "unclear",
         "_deepnote_index_column": 9
        }
       ]
      },
      "text/plain": "        symbol        date      open      high       low     close     pivot  \\\n0     REEFUSDT  2022-06-07  0.004423  0.004471  0.004099  0.004256  0.004470   \n1     IOTXUSDT  2022-06-07  0.034570  0.034910  0.031730  0.033330  0.034760   \n2      XLMUSDT  2022-06-07  0.144380  0.145130  0.134210  0.138430  0.145670   \n3      OMGUSDT  2022-06-07  2.548000  2.576000  2.401000  2.481000  2.578667   \n4      BALUSDT  2022-06-07  7.511000  7.604000  6.825000  6.977000  7.618667   \n..         ...         ...       ...       ...       ...       ...       ...   \n137   API3USDT  2022-06-07  1.541000  1.570000  1.407000  1.430000  1.549333   \n138    TLMUSDT  2022-06-07  0.036100  0.036600  0.032300  0.033100  0.036067   \n139  MATICUSDT  2022-06-07  0.628200  0.634900  0.581800  0.589800  0.626467   \n140    SNXUSDT  2022-06-07  2.719000  2.780000  2.502000  2.562000  2.738333   \n141    SFPUSDT  2022-06-07  0.405500  0.409800  0.376000  0.379500  0.407267   \n\n           bc        tc        r1        s1        r2        s2     width  \\\n0    0.004494  0.004446  0.004599  0.004294  0.004775  0.004165  moderate   \n1    0.034855  0.034665  0.035910  0.033420  0.037250  0.032270  moderate   \n2    0.146330  0.145010  0.149290  0.140730  0.154230  0.137110  moderate   \n3    2.593500  2.563833  2.691333  2.436333  2.833667  2.323667  moderate   \n4    7.671500  7.565833  7.837333  7.294333  8.161667  7.075667  moderate   \n..        ...       ...       ...       ...       ...       ...       ...   \n137  1.553500  1.545167  1.599667  1.490667  1.658333  1.440333  moderate   \n138  0.036000  0.036133  0.037233  0.035033  0.038267  0.033867  moderate   \n139  0.625600  0.627333  0.657733  0.596933  0.687267  0.565667    narrow   \n140  2.747500  2.729167  2.888667  2.569667  3.057333  2.419333  moderate   \n141  0.408100  0.406433  0.419533  0.393333  0.433467  0.381067  moderate   \n\n     previous_high  previous_low  pivot_shifted cpr_trend day_open  \\\n0         0.004646      0.004341       0.004383   uptrend    below   \n1         0.036100      0.033610       0.034217   uptrend    below   \n2         0.150610      0.142050       0.144443   uptrend    below   \n3         2.721000      2.466000       2.463000   uptrend    below   \n4         7.943000      7.400000       7.314000   uptrend    below   \n..             ...           ...            ...       ...      ...   \n137       1.608000      1.499000       1.508000   uptrend    below   \n138       0.037100      0.034900       0.035467   uptrend  Neutral   \n139       0.656000      0.595200       0.597233   uptrend    above   \n140       2.907000      2.588000       2.645667   uptrend    below   \n141       0.421200      0.395000       0.398267   uptrend    below   \n\n    cpr_opportunity  \n0           unclear  \n1           unclear  \n2           unclear  \n3           unclear  \n4           unclear  \n..              ...  \n137         unclear  \n138         unclear  \n139            long  \n140         unclear  \n141         unclear  \n\n[142 rows x 20 columns]",
      "text/html": "<div>\n<style scoped>\n    .dataframe tbody tr th:only-of-type {\n        vertical-align: middle;\n    }\n\n    .dataframe tbody tr th {\n        vertical-align: top;\n    }\n\n    .dataframe thead th {\n        text-align: right;\n    }\n</style>\n<table border=\"1\" class=\"dataframe\">\n  <thead>\n    <tr style=\"text-align: right;\">\n      <th></th>\n      <th>symbol</th>\n      <th>date</th>\n      <th>open</th>\n      <th>high</th>\n      <th>low</th>\n      <th>close</th>\n      <th>pivot</th>\n      <th>bc</th>\n      <th>tc</th>\n      <th>r1</th>\n      <th>s1</th>\n      <th>r2</th>\n      <th>s2</th>\n      <th>width</th>\n      <th>previous_high</th>\n      <th>previous_low</th>\n      <th>pivot_shifted</th>\n      <th>cpr_trend</th>\n      <th>day_open</th>\n      <th>cpr_opportunity</th>\n    </tr>\n  </thead>\n  <tbody>\n    <tr>\n      <th>0</th>\n      <td>REEFUSDT</td>\n      <td>2022-06-07</td>\n      <td>0.004423</td>\n      <td>0.004471</td>\n      <td>0.004099</td>\n      <td>0.004256</td>\n      <td>0.004470</td>\n      <td>0.004494</td>\n      <td>0.004446</td>\n      <td>0.004599</td>\n      <td>0.004294</td>\n      <td>0.004775</td>\n      <td>0.004165</td>\n      <td>moderate</td>\n      <td>0.004646</td>\n      <td>0.004341</td>\n      <td>0.004383</td>\n      <td>uptrend</td>\n      <td>below</td>\n      <td>unclear</td>\n    </tr>\n    <tr>\n      <th>1</th>\n      <td>IOTXUSDT</td>\n      <td>2022-06-07</td>\n      <td>0.034570</td>\n      <td>0.034910</td>\n      <td>0.031730</td>\n      <td>0.033330</td>\n      <td>0.034760</td>\n      <td>0.034855</td>\n      <td>0.034665</td>\n      <td>0.035910</td>\n      <td>0.033420</td>\n      <td>0.037250</td>\n      <td>0.032270</td>\n      <td>moderate</td>\n      <td>0.036100</td>\n      <td>0.033610</td>\n      <td>0.034217</td>\n      <td>uptrend</td>\n      <td>below</td>\n      <td>unclear</td>\n    </tr>\n    <tr>\n      <th>2</th>\n      <td>XLMUSDT</td>\n      <td>2022-06-07</td>\n      <td>0.144380</td>\n      <td>0.145130</td>\n      <td>0.134210</td>\n      <td>0.138430</td>\n      <td>0.145670</td>\n      <td>0.146330</td>\n      <td>0.145010</td>\n      <td>0.149290</td>\n      <td>0.140730</td>\n      <td>0.154230</td>\n      <td>0.137110</td>\n      <td>moderate</td>\n      <td>0.150610</td>\n      <td>0.142050</td>\n      <td>0.144443</td>\n      <td>uptrend</td>\n      <td>below</td>\n      <td>unclear</td>\n    </tr>\n    <tr>\n      <th>3</th>\n      <td>OMGUSDT</td>\n      <td>2022-06-07</td>\n      <td>2.548000</td>\n      <td>2.576000</td>\n      <td>2.401000</td>\n      <td>2.481000</td>\n      <td>2.578667</td>\n      <td>2.593500</td>\n      <td>2.563833</td>\n      <td>2.691333</td>\n      <td>2.436333</td>\n      <td>2.833667</td>\n      <td>2.323667</td>\n      <td>moderate</td>\n      <td>2.721000</td>\n      <td>2.466000</td>\n      <td>2.463000</td>\n      <td>uptrend</td>\n      <td>below</td>\n      <td>unclear</td>\n    </tr>\n    <tr>\n      <th>4</th>\n      <td>BALUSDT</td>\n      <td>2022-06-07</td>\n      <td>7.511000</td>\n      <td>7.604000</td>\n      <td>6.825000</td>\n      <td>6.977000</td>\n      <td>7.618667</td>\n      <td>7.671500</td>\n      <td>7.565833</td>\n      <td>7.837333</td>\n      <td>7.294333</td>\n      <td>8.161667</td>\n      <td>7.075667</td>\n      <td>moderate</td>\n      <td>7.943000</td>\n      <td>7.400000</td>\n      <td>7.314000</td>\n      <td>uptrend</td>\n      <td>below</td>\n      <td>unclear</td>\n    </tr>\n    <tr>\n      <th>...</th>\n      <td>...</td>\n      <td>...</td>\n      <td>...</td>\n      <td>...</td>\n      <td>...</td>\n      <td>...</td>\n      <td>...</td>\n      <td>...</td>\n      <td>...</td>\n      <td>...</td>\n      <td>...</td>\n      <td>...</td>\n      <td>...</td>\n      <td>...</td>\n      <td>...</td>\n      <td>...</td>\n      <td>...</td>\n      <td>...</td>\n      <td>...</td>\n      <td>...</td>\n    </tr>\n    <tr>\n      <th>137</th>\n      <td>API3USDT</td>\n      <td>2022-06-07</td>\n      <td>1.541000</td>\n      <td>1.570000</td>\n      <td>1.407000</td>\n      <td>1.430000</td>\n      <td>1.549333</td>\n      <td>1.553500</td>\n      <td>1.545167</td>\n      <td>1.599667</td>\n      <td>1.490667</td>\n      <td>1.658333</td>\n      <td>1.440333</td>\n      <td>moderate</td>\n      <td>1.608000</td>\n      <td>1.499000</td>\n      <td>1.508000</td>\n      <td>uptrend</td>\n      <td>below</td>\n      <td>unclear</td>\n    </tr>\n    <tr>\n      <th>138</th>\n      <td>TLMUSDT</td>\n      <td>2022-06-07</td>\n      <td>0.036100</td>\n      <td>0.036600</td>\n      <td>0.032300</td>\n      <td>0.033100</td>\n      <td>0.036067</td>\n      <td>0.036000</td>\n      <td>0.036133</td>\n      <td>0.037233</td>\n      <td>0.035033</td>\n      <td>0.038267</td>\n      <td>0.033867</td>\n      <td>moderate</td>\n      <td>0.037100</td>\n      <td>0.034900</td>\n      <td>0.035467</td>\n      <td>uptrend</td>\n      <td>Neutral</td>\n      <td>unclear</td>\n    </tr>\n    <tr>\n      <th>139</th>\n      <td>MATICUSDT</td>\n      <td>2022-06-07</td>\n      <td>0.628200</td>\n      <td>0.634900</td>\n      <td>0.581800</td>\n      <td>0.589800</td>\n      <td>0.626467</td>\n      <td>0.625600</td>\n      <td>0.627333</td>\n      <td>0.657733</td>\n      <td>0.596933</td>\n      <td>0.687267</td>\n      <td>0.565667</td>\n      <td>narrow</td>\n      <td>0.656000</td>\n      <td>0.595200</td>\n      <td>0.597233</td>\n      <td>uptrend</td>\n      <td>above</td>\n      <td>long</td>\n    </tr>\n    <tr>\n      <th>140</th>\n      <td>SNXUSDT</td>\n      <td>2022-06-07</td>\n      <td>2.719000</td>\n      <td>2.780000</td>\n      <td>2.502000</td>\n      <td>2.562000</td>\n      <td>2.738333</td>\n      <td>2.747500</td>\n      <td>2.729167</td>\n      <td>2.888667</td>\n      <td>2.569667</td>\n      <td>3.057333</td>\n      <td>2.419333</td>\n      <td>moderate</td>\n      <td>2.907000</td>\n      <td>2.588000</td>\n      <td>2.645667</td>\n      <td>uptrend</td>\n      <td>below</td>\n      <td>unclear</td>\n    </tr>\n    <tr>\n      <th>141</th>\n      <td>SFPUSDT</td>\n      <td>2022-06-07</td>\n      <td>0.405500</td>\n      <td>0.409800</td>\n      <td>0.376000</td>\n      <td>0.379500</td>\n      <td>0.407267</td>\n      <td>0.408100</td>\n      <td>0.406433</td>\n      <td>0.419533</td>\n      <td>0.393333</td>\n      <td>0.433467</td>\n      <td>0.381067</td>\n      <td>moderate</td>\n      <td>0.421200</td>\n      <td>0.395000</td>\n      <td>0.398267</td>\n      <td>uptrend</td>\n      <td>below</td>\n      <td>unclear</td>\n    </tr>\n  </tbody>\n</table>\n<p>142 rows × 20 columns</p>\n</div>"
     },
     "metadata": {}
    }
   ]
  },
  {
   "cell_type": "code",
   "metadata": {
    "cell_id": "5fe6c7c64272405698e854c611227e3a",
    "tags": [],
    "deepnote_to_be_reexecuted": false,
    "source_hash": "b623e53d",
    "execution_start": 1654623160470,
    "execution_millis": 0,
    "deepnote_cell_type": "code",
    "deepnote_cell_height": 76
   },
   "source": "",
   "execution_count": null,
   "outputs": []
  },
  {
   "cell_type": "markdown",
   "source": "<a style='text-decoration:none;line-height:16px;display:flex;color:#5B5B62;padding:10px;justify-content:end;' href='https://deepnote.com?utm_source=created-in-deepnote-cell&projectId=4b416ed7-4459-4831-a6c0-a85d5b5e69e0' target=\"_blank\">\n<img alt='Created in deepnote.com' style='display:inline;max-height:16px;margin:0px;margin-right:7.5px;' src='data:image/svg+xml;base64,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' > </img>\nCreated in <span style='font-weight:600;margin-left:4px;'>Deepnote</span></a>",
   "metadata": {
    "tags": [],
    "created_in_deepnote_cell": true,
    "deepnote_cell_type": "markdown"
   }
  }
 ],
 "nbformat": 4,
 "nbformat_minor": 2,
 "metadata": {
  "orig_nbformat": 2,
  "deepnote": {},
  "deepnote_notebook_id": "bccffe7b-cbf1-498c-9811-6ca8769a1ad4",
  "deepnote_execution_queue": []
 }
}